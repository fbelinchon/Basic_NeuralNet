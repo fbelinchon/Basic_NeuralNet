{
  "cells": [
    {
      "cell_type": "markdown",
      "metadata": {
        "colab_type": "text",
        "id": "view-in-github"
      },
      "source": [
        "<a href=\"https://colab.research.google.com/github/fbelinchon/Basic_NeuralNet/blob/main/03_backprop_MIO.ipynb\" target=\"_parent\"><img src=\"https://colab.research.google.com/assets/colab-badge.svg\" alt=\"Open In Colab\"/></a>"
      ]
    },
    {
      "cell_type": "markdown",
      "metadata": {
        "id": "OUqOWY8_nl_J"
      },
      "source": [
        "## The forward and backward passes"
      ]
    },
    {
      "cell_type": "code",
      "execution_count": null,
      "metadata": {
        "id": "iTTXdA0TpUPp"
      },
      "outputs": [],
      "source": [
        "#drive.flush_and_unmount()"
      ]
    },
    {
      "cell_type": "code",
      "execution_count": 1,
      "metadata": {
        "id": "RRALzljwd9Y_"
      },
      "outputs": [],
      "source": [
        "#| default_exp training"
      ]
    },
    {
      "cell_type": "code",
      "execution_count": 3,
      "metadata": {
        "colab": {
          "base_uri": "https://localhost:8080/"
        },
        "id": "OswHiltwo9gs",
        "outputId": "20d78ec0-02ca-4287-e65e-f0da768dff26"
      },
      "outputs": [
        {
          "name": "stdout",
          "output_type": "stream",
          "text": [
            "Mounted at /content/data\n"
          ]
        }
      ],
      "source": [
        "from google.colab import drive\n",
        "drive.mount('/content/data')"
      ]
    },
    {
      "cell_type": "code",
      "execution_count": 4,
      "metadata": {
        "colab": {
          "base_uri": "https://localhost:8080/"
        },
        "id": "gn9qpnM1pI82",
        "outputId": "9a5f28d9-30fb-4874-8721-5b565e99b524"
      },
      "outputs": [
        {
          "name": "stdout",
          "output_type": "stream",
          "text": [
            "/content\n"
          ]
        }
      ],
      "source": [
        "!pwd"
      ]
    },
    {
      "cell_type": "code",
      "execution_count": 6,
      "metadata": {
        "id": "58a6GEx5eVIX"
      },
      "outputs": [],
      "source": [
        "#|export\n",
        "import pickle,gzip,math,os,time,shutil,torch,matplotlib as mpl,numpy as np,matplotlib.pyplot as plt\n",
        "from pathlib import Path\n",
        "from torch import tensor,nn\n",
        "import torch.nn.functional as F\n"
      ]
    },
    {
      "cell_type": "code",
      "execution_count": 7,
      "metadata": {
        "id": "324HSn9fnl_L"
      },
      "outputs": [],
      "source": [
        "\n",
        "import pickle,gzip,math,os,time,shutil,torch,matplotlib as mpl, numpy as np\n",
        "from pathlib import Path\n",
        "from torch import tensor,nn,optim\n",
        "import torch.nn.functional as F\n",
        "from fastcore.test import test_close\n",
        "from matplotlib import pyplot as plt\n",
        "import pdb\n",
        "from tqdm import tqdm\n",
        "torch.manual_seed(42)\n",
        "\n",
        "mpl.rcParams['image.cmap'] = 'gray'\n",
        "torch.set_printoptions(precision=2, linewidth=125, sci_mode=False)\n",
        "np.set_printoptions(precision=2, linewidth=125)\n",
        "\n",
        "path_data = Path('/content/data/MyDrive/data/')\n",
        "path_gz = path_data/'mnist.pkl.gz'\n",
        "with gzip.open(path_gz, 'rb') as f:\n",
        "     ((x_train, y_train), (x_valid, y_valid), _) = pickle.load(f, encoding='latin-1')\n",
        "x_train, y_train, x_valid, y_valid = map(tensor, [x_train, y_train, x_valid, y_valid])"
      ]
    },
    {
      "cell_type": "code",
      "execution_count": null,
      "metadata": {},
      "outputs": [],
      "source": []
    },
    {
      "cell_type": "code",
      "execution_count": null,
      "metadata": {},
      "outputs": [],
      "source": []
    },
    {
      "cell_type": "markdown",
      "metadata": {
        "id": "8T37NOMqnl_M"
      },
      "source": [
        "## Foundations version"
      ]
    },
    {
      "cell_type": "markdown",
      "metadata": {
        "id": "8tLKZpYgnl_M"
      },
      "source": [
        "### Basic architecture"
      ]
    },
    {
      "cell_type": "code",
      "execution_count": null,
      "metadata": {
        "colab": {
          "base_uri": "https://localhost:8080/"
        },
        "id": "qSJ8GdPDnl_N",
        "outputId": "0a5bbed3-c3f4-4bda-cf0f-822f255da148"
      },
      "outputs": [
        {
          "data": {
            "text/plain": [
              "(50000, 784, tensor(10))"
            ]
          },
          "execution_count": 5,
          "metadata": {},
          "output_type": "execute_result"
        }
      ],
      "source": [
        "n,m = x_train.shape # 50000 ejemplos, cada ejemplo con 784 pixel (28x28)\n",
        "c = y_train.max()+1 # 10 valores, de 0-9\n",
        "n,m,c"
      ]
    },
    {
      "cell_type": "code",
      "execution_count": null,
      "metadata": {
        "id": "DZXbPBe7nl_N"
      },
      "outputs": [],
      "source": [
        "# num hidden\n",
        "nh = 50"
      ]
    },
    {
      "cell_type": "markdown",
      "metadata": {
        "id": "jPSsIfS4En4n"
      },
      "source": [
        "## Definimos los funciones básicas\n",
        "1. Primero generamos los pesos y los terminos bias. Los pesos se definen como números aleatorios y los términos bias con ceros."
      ]
    },
    {
      "cell_type": "code",
      "execution_count": null,
      "metadata": {
        "id": "pLAO0vkvEwF6"
      },
      "outputs": [],
      "source": [
        "w1 = torch.randn(m,nh)\n",
        "b1 = torch.zeros(nh)\n",
        "w2 = torch.randn(nh,1)\n",
        "b2 = torch.zeros(1)"
      ]
    },
    {
      "cell_type": "markdown",
      "metadata": {
        "id": "RkwENVQeHhsh"
      },
      "source": [
        "2. Creamos la función para caluclar la transformación lineal."
      ]
    },
    {
      "cell_type": "code",
      "execution_count": null,
      "metadata": {
        "id": "jp0deJ0aFV0z"
      },
      "outputs": [],
      "source": [
        "def linT(X,W,b): return X@W +b"
      ]
    },
    {
      "cell_type": "code",
      "execution_count": null,
      "metadata": {
        "id": "LZFclM4dHHOg"
      },
      "outputs": [],
      "source": [
        "# comprobación\n",
        "Xt =tensor([[1,2,3],[2,3,4]])\n",
        "Wt = tensor([[2,2,2]])\n",
        "bt = tensor([1])\n",
        "zt=linT(Xt,Wt.T,bt)\n",
        "\n",
        "test_close(zt, tensor([[13,19]]).T, eps=0.01)"
      ]
    },
    {
      "cell_type": "markdown",
      "metadata": {
        "id": "UXcxAEzpH5k5"
      },
      "source": [
        "3. Función de error MSE and RELU\n"
      ]
    },
    {
      "cell_type": "code",
      "execution_count": null,
      "metadata": {
        "id": "2101748rICNq"
      },
      "outputs": [],
      "source": [
        "def mse(Z,y):\n",
        "    return (Z.squeeze() - y).pow(2).mean()"
      ]
    },
    {
      "cell_type": "code",
      "execution_count": null,
      "metadata": {
        "id": "kw46YCS-JPdU"
      },
      "outputs": [],
      "source": [
        "# Comprobación\n",
        "Xt =tensor([[1,2,3],[2,3,4]])\n",
        "Wt = tensor([[2,2,2]])\n",
        "bt = tensor([1])\n",
        "\n",
        "yt=tensor([12.2,18.4])\n",
        "zt=linT(Xt,Wt.T,bt)\n",
        "\n",
        "test_close(zt, tensor([[13,19]]).T, eps=0.01)\n",
        "#0.8^2+0.6^2=0.64+0.36=1 la media es 0.5\n",
        "mse(zt,yt)\n",
        "test_close(mse(zt,yt),0.5)"
      ]
    },
    {
      "cell_type": "markdown",
      "metadata": {
        "id": "UGuBeekkJWLM"
      },
      "source": [
        "4. Función RELU"
      ]
    },
    {
      "cell_type": "code",
      "execution_count": null,
      "metadata": {
        "id": "d8ZXOVKhJY1V"
      },
      "outputs": [],
      "source": [
        "def relu(X):\n",
        "    return torch.clamp(X,min=0)\n"
      ]
    },
    {
      "cell_type": "code",
      "execution_count": null,
      "metadata": {
        "id": "bt05rbcaLzxF"
      },
      "outputs": [],
      "source": [
        "#Comprobar\n",
        "d=tensor([[-.4,5],[4,-5.6]])\n",
        "relu(d)\n",
        "test_close(relu(d),tensor([[0.,5],[4.,0.]]))"
      ]
    },
    {
      "cell_type": "markdown",
      "metadata": {
        "id": "VX5dibO-MJso"
      },
      "source": [
        " 5. Modelo"
      ]
    },
    {
      "cell_type": "code",
      "execution_count": null,
      "metadata": {
        "id": "itDd6pcTMMno"
      },
      "outputs": [],
      "source": [
        "def modelo(X,y):\n",
        "     l1=linT(X,w1,b1)\n",
        "     rl=relu(l1)\n",
        "     l2=linT(rl,w2,b2)\n",
        "     return l2"
      ]
    },
    {
      "cell_type": "code",
      "execution_count": null,
      "metadata": {
        "id": "8Ssjn3S9NFWQ"
      },
      "outputs": [],
      "source": [
        "# comprobación\n",
        "modelo(x_train,y_train).shape\n",
        "test_close(modelo(x_train,y_train).shape,[50000,1])"
      ]
    },
    {
      "cell_type": "markdown",
      "metadata": {
        "id": "tsEVEthRONvZ"
      },
      "source": [
        "# Forward and backward"
      ]
    },
    {
      "cell_type": "markdown",
      "metadata": {
        "id": "rc-PmyApPNZg"
      },
      "source": [
        "Forward"
      ]
    },
    {
      "cell_type": "code",
      "execution_count": null,
      "metadata": {
        "id": "VMsZ3UXSOa6X"
      },
      "outputs": [],
      "source": [
        "def forward(X,y):\n",
        "    l1=linT(X,w1,b1)\n",
        "    rl=relu(l1)\n",
        "    out=linT(rl,w2,b2)\n",
        "    return mse(out,y)"
      ]
    },
    {
      "cell_type": "code",
      "execution_count": null,
      "metadata": {
        "colab": {
          "base_uri": "https://localhost:8080/"
        },
        "id": "rpv3ZEemnl_O",
        "outputId": "b0129ed0-baa2-46ec-96a2-7aeec4bf7926"
      },
      "outputs": [
        {
          "data": {
            "text/plain": [
              "tensor(4308.76)"
            ]
          },
          "execution_count": 17,
          "metadata": {},
          "output_type": "execute_result"
        }
      ],
      "source": [
        "forward(x_train,y_train)"
      ]
    },
    {
      "cell_type": "markdown",
      "metadata": {
        "id": "IxrU3lTRPSQi"
      },
      "source": [
        "Backward"
      ]
    },
    {
      "cell_type": "code",
      "execution_count": null,
      "metadata": {
        "id": "XhQ2-MLnoBZt"
      },
      "outputs": [],
      "source": [
        "import pdb"
      ]
    },
    {
      "cell_type": "code",
      "execution_count": null,
      "metadata": {
        "id": "65yWP5qgQiHL"
      },
      "outputs": [],
      "source": [
        "def lin_grad(input, output,W,b):\n",
        "\n",
        "    #pdb.set_trace()\n",
        "    input.g = output.g @ W.T  # 50000x784\n",
        "    #W.g = input.unsqueeze(-1) * output.g.unsqueeze(1).sum(0) # 784x50 MIRAR\n",
        "    W.g = input.T @ output.g\n",
        "    b.g= output.g.sum(0) # OK\n"
      ]
    },
    {
      "cell_type": "code",
      "execution_count": null,
      "metadata": {
        "id": "rfFmB1pUnl_O"
      },
      "outputs": [],
      "source": [
        "import pdb\n",
        "def fordward_backward(X,y):\n",
        "    l1=linT(X,w1,b1)\n",
        "    rl=relu(l1)\n",
        "    l2=linT(rl,w2,b2)\n",
        "    loss=mse(l2,y)\n",
        "\n",
        "\n",
        "    #backward\n",
        "    n=X.shape[0]\n",
        "    #\n",
        "    l2.g = (2.)*(l2 - y.unsqueeze(-1))/n\n",
        "    lin_grad(rl,l2,w2,b2)\n",
        "    l1.g = (l1>0).float() * rl.g\n",
        "    #pdb.set_trace()\n",
        "    lin_grad(X,l1,w1,b1)\n",
        "\n",
        "\n"
      ]
    },
    {
      "cell_type": "code",
      "execution_count": null,
      "metadata": {
        "id": "R5Ze5Oqonl_O"
      },
      "outputs": [],
      "source": [
        "#fordward_backward(x_train[:5000,:],y_train[:5000])"
      ]
    },
    {
      "cell_type": "code",
      "execution_count": null,
      "metadata": {
        "id": "SEnYuEXlreyc"
      },
      "outputs": [],
      "source": [
        "fordward_backward(x_train,y_train)"
      ]
    },
    {
      "cell_type": "code",
      "execution_count": null,
      "metadata": {
        "colab": {
          "base_uri": "https://localhost:8080/"
        },
        "id": "jnVDl0j1rfBE",
        "outputId": "224090cf-580b-4ce0-986b-2033ecd00de7"
      },
      "outputs": [
        {
          "name": "stderr",
          "output_type": "stream",
          "text": [
            "<ipython-input-23-5382e8771bbf>:3: UserWarning: To copy construct from a tensor, it is recommended to use sourceTensor.clone().detach() or sourceTensor.clone().detach().requires_grad_(True), rather than torch.tensor(sourceTensor).\n",
            "  def get_grad(x: tensor): return tensor(x.g).clone()\n"
          ]
        }
      ],
      "source": [
        "# Save for testing against later\n",
        "torch.Tensor.g = []\n",
        "def get_grad(x: tensor): return tensor(x.g).clone()\n",
        "chks = w1,w2,b1,b2,x_train\n",
        "grads = w1g,w2g,b1g,b2g,ig = tuple(map(get_grad, chks))"
      ]
    },
    {
      "cell_type": "code",
      "execution_count": null,
      "metadata": {
        "id": "fevdQMNQrfBF"
      },
      "outputs": [],
      "source": [
        "def mkgrad(x): return x.clone().requires_grad_(True)\n",
        "ptgrads = w12,w22,b12,b22,xt2 = tuple(map(mkgrad, chks))"
      ]
    },
    {
      "cell_type": "code",
      "execution_count": null,
      "metadata": {
        "id": "NaU5jH92rfBF"
      },
      "outputs": [],
      "source": [
        "def forward(inp, targ):\n",
        "    l1 = linT(inp, w12, b12)\n",
        "    l2 = relu(l1)\n",
        "    out = linT(l2, w22, b22)\n",
        "    return mse(out, targ)"
      ]
    },
    {
      "cell_type": "code",
      "execution_count": null,
      "metadata": {
        "id": "TjMOoEd9rfBF"
      },
      "outputs": [],
      "source": [
        "loss = forward(xt2, y_train)\n",
        "loss.backward()"
      ]
    },
    {
      "cell_type": "code",
      "execution_count": null,
      "metadata": {
        "id": "yYLMi7pyrfBF"
      },
      "outputs": [],
      "source": [
        "for a,b in zip(grads, ptgrads): test_close(a, b.grad, eps=0.01)"
      ]
    },
    {
      "cell_type": "markdown",
      "metadata": {
        "id": "s3uHFSPqm4CF"
      },
      "source": [
        "# forward pass:\n",
        "    l1 = linT(inp, w1, b1)\n",
        "    l2 = relu(l1)\n",
        "    out = linT(l2, w2, b2)\n",
        "    diff = out[:,0]-targ\n",
        "    loss = diff.pow(2).mean()\n",
        "\n",
        "\n",
        "\n",
        "    # backward pass:\n",
        "    out.g = 2.*diff[:,None] / inp.shape[0]\n",
        "    lin_grad(l2, out, w2, b2)\n",
        "    l1.g = (l1>0).float() * l2.g\n",
        "    lin_grad(inp, l1, w1, b1)"
      ]
    },
    {
      "cell_type": "markdown",
      "metadata": {
        "id": "Mp3jVWhYnl_S"
      },
      "source": [
        "### Gradients and backward pass"
      ]
    },
    {
      "cell_type": "code",
      "execution_count": null,
      "metadata": {
        "colab": {
          "base_uri": "https://localhost:8080/",
          "height": 38
        },
        "id": "D352C0Mtnl_S",
        "outputId": "6da82ee5-78ea-4484-feb3-96068cf1c85b"
      },
      "outputs": [
        {
          "data": {
            "text/latex": [
              "$\\displaystyle 2 x$"
            ],
            "text/plain": [
              "2*x"
            ]
          },
          "execution_count": 28,
          "metadata": {},
          "output_type": "execute_result"
        }
      ],
      "source": [
        "from sympy import symbols,diff\n",
        "x,y = symbols('x y')\n",
        "diff(x**2, x)"
      ]
    },
    {
      "cell_type": "code",
      "execution_count": null,
      "metadata": {
        "colab": {
          "base_uri": "https://localhost:8080/",
          "height": 38
        },
        "id": "PlJ9wMlfnl_S",
        "outputId": "c13fda14-5dbb-4f72-eb93-188aab9463ff"
      },
      "outputs": [
        {
          "data": {
            "text/latex": [
              "$\\displaystyle 6 x$"
            ],
            "text/plain": [
              "6*x"
            ]
          },
          "execution_count": 29,
          "metadata": {},
          "output_type": "execute_result"
        }
      ],
      "source": [
        "diff(3*x**2+9, x)"
      ]
    },
    {
      "cell_type": "code",
      "execution_count": null,
      "metadata": {
        "colab": {
          "base_uri": "https://localhost:8080/",
          "height": 38
        },
        "id": "cc5OcVjHsMGN",
        "outputId": "5f7afd05-6107-4bbd-dfaf-caa76a49307b"
      },
      "outputs": [
        {
          "data": {
            "text/latex": [
              "$\\displaystyle 9 x^{2} y + 2 x - 4 y^{2}$"
            ],
            "text/plain": [
              "9*x**2*y + 2*x - 4*y**2"
            ]
          },
          "execution_count": 30,
          "metadata": {},
          "output_type": "execute_result"
        }
      ],
      "source": [
        "diff(x**2+3*x**3*y-4*x*y**2,x) # derivado con respecto a x"
      ]
    },
    {
      "cell_type": "code",
      "execution_count": null,
      "metadata": {
        "colab": {
          "base_uri": "https://localhost:8080/",
          "height": 38
        },
        "id": "yhxb7YO1sxGF",
        "outputId": "31669999-de42-47fd-a7fc-2d9b5af08a84"
      },
      "outputs": [
        {
          "data": {
            "text/latex": [
              "$\\displaystyle 3 x^{3} - 8 x y$"
            ],
            "text/plain": [
              "3*x**3 - 8*x*y"
            ]
          },
          "execution_count": 31,
          "metadata": {},
          "output_type": "execute_result"
        }
      ],
      "source": [
        "diff(x**2+3*x**3*y-4*x*y**2,y) # derivada con respecto a y"
      ]
    },
    {
      "cell_type": "markdown",
      "metadata": {
        "id": "FUcHyU-Mnl_U"
      },
      "source": [
        "### Layers as classes"
      ]
    },
    {
      "cell_type": "markdown",
      "metadata": {
        "id": "3d03lySLjJDP"
      },
      "source": [
        "Creamos la Clase para la función RELU:\n",
        "* En la llamada `__call__` almacenamos la salida self.output\n",
        "* Calculamos el gradiente de esta estapa.\n",
        "\n",
        "El gradiente de una etapa se caluca utilizando chain rule. El gradiente de la entrada se calcula como el gradiente de la función con respecto a la entrada  por el gradiente de la salida (el gradiente de la salida se ha calculado en la etapa anterior)\n",
        "d_Loss/d_inp = d_Loss/d_out * d_out/d_inp\n"
      ]
    },
    {
      "cell_type": "code",
      "execution_count": null,
      "metadata": {
        "id": "5fxjqEHriiH7"
      },
      "outputs": [],
      "source": [
        "class Relu():\n",
        "    def forward(self,inp):\n",
        "        self.inp = inp\n",
        "        self.out = inp.clamp_min(0.)\n",
        "        return self.out\n",
        "\n",
        "    def backward(self):\n",
        "        # (self.inp>0).float() -> tensor([1., 0., 1.,....])\n",
        "        pdb.set_trace()\n",
        "        self.inp.g = self.out.g * (self.inp > 0).float() # d_Loss/d_out * d_out/d_int\n"
      ]
    },
    {
      "cell_type": "markdown",
      "metadata": {
        "id": "H_UOFMgfn6tW"
      },
      "source": [
        "Clase Lin \\\n",
        "\n",
        "1. Constructor (w,b)\n",
        "2. Llamada a la clase: pasamos inp y realiza la función lineal `out= inp@w + b`\n",
        "3. Calculamos gradientes de inp, x y b\n",
        "\n",
        "Gradiente de inp: dLoss/d_inp = dLoss/d_out * d_out/d_inp => out.g @ W \\\n",
        "Gradiente de w: dLoss/d_w = dLoss/d_out * d_out/d_w => inp.T @ out.g \\\n",
        "Gradiente de b: dLoss/d_w = dLoss/d_out * d_out/d_b =>out.g.sum(0)\n"
      ]
    },
    {
      "cell_type": "code",
      "execution_count": null,
      "metadata": {
        "id": "0LbLEl3jn7ZP"
      },
      "outputs": [],
      "source": [
        "class Lin():\n",
        "    def __init__(self,m,nh):\n",
        "        self.w = torch.randn(m,nh)\n",
        "        self.b = torch.zeros(nh)\n",
        "\n",
        "    def forward(self,inp):\n",
        "        #pdb.set_trace()\n",
        "        self.inp=inp\n",
        "        self.out = self.inp @ self.w + self.b.unsqueeze(0)\n",
        "        return self.out\n",
        "\n",
        "    def backward(self):\n",
        "        self.inp.g = self.out.g @ self.w.T\n",
        "        self.w.g = self.inp.T @ self.out.g\n",
        "        self.b.g = self.out.g.sum(0)"
      ]
    },
    {
      "cell_type": "markdown",
      "metadata": {
        "id": "JTWQHWdssAU7"
      },
      "source": [
        "Clase MSE\n",
        "1. llamada para calcular MSE: (inp-y)^2.mean()\n",
        "2. calculamos el gradiente de inp\n",
        "\n",
        "Gradiente con respecto a inp D_Loss/d_inp = 2/n * (i-y)\n",
        "\n"
      ]
    },
    {
      "cell_type": "code",
      "execution_count": null,
      "metadata": {
        "id": "cASofBk7sLjU"
      },
      "outputs": [],
      "source": [
        "class Mse():\n",
        "    def __call__(self,inp,y):\n",
        "        self.inp,self.y = inp,y\n",
        "        self.out = ((self.inp - self.y.unsqueeze(-1)).pow(2)).mean()\n",
        "        return self.out\n",
        "\n",
        "    def backward(self):\n",
        "\n",
        "        self.inp.g = 2.0 * (self.inp - self.y.unsqueeze(-1)) / self.y.shape[0]"
      ]
    },
    {
      "cell_type": "markdown",
      "metadata": {
        "id": "52HRyYyEujhJ"
      },
      "source": [
        "Clase Modelo\n",
        "1. `__init__`\n",
        "2. fordward\n",
        "3. backward"
      ]
    },
    {
      "cell_type": "code",
      "execution_count": null,
      "metadata": {
        "id": "E5IT1ZURuypr"
      },
      "outputs": [],
      "source": [
        "from logging import exception\n",
        "class Modelo():\n",
        "    def __init__(self,ninp,nh,nout):\n",
        "        self.layers=[Lin(ninp,nh),Relu(),Lin(nh,nout)]\n",
        "        self.loss = Mse()\n",
        "\n",
        "    def __call__(self,x,y):\n",
        "        out=x\n",
        "\n",
        "        for layer in self.layers:\n",
        "            out=layer.forward(out)\n",
        "        return self.loss(out,y)\n",
        "\n",
        "    def backward(self):\n",
        "        self.loss.backward()\n",
        "        #pdb.set_trace()\n",
        "        for layer in reversed(self.layers):\n",
        "            layer.backward()"
      ]
    },
    {
      "cell_type": "code",
      "execution_count": null,
      "metadata": {
        "id": "lRI29kgtnl_d"
      },
      "outputs": [],
      "source": [
        "model = Modelo(m,nh,1)"
      ]
    },
    {
      "cell_type": "code",
      "execution_count": null,
      "metadata": {
        "id": "wiFT6RpSnl_d"
      },
      "outputs": [],
      "source": [
        "loss = model(x_train, y_train)"
      ]
    },
    {
      "cell_type": "code",
      "execution_count": null,
      "metadata": {
        "colab": {
          "base_uri": "https://localhost:8080/"
        },
        "id": "H_oStv75jW8Z",
        "outputId": "f618bbb1-f246-4f6d-c665-2eaf68411266"
      },
      "outputs": [
        {
          "data": {
            "text/plain": [
              "tensor(1549.37)"
            ]
          },
          "execution_count": 38,
          "metadata": {},
          "output_type": "execute_result"
        }
      ],
      "source": [
        "loss"
      ]
    },
    {
      "cell_type": "code",
      "execution_count": null,
      "metadata": {
        "colab": {
          "base_uri": "https://localhost:8080/"
        },
        "id": "Ueom3o_lnl_d",
        "outputId": "59e591a9-d015-4500-bafc-eb302bb0e206"
      },
      "outputs": [
        {
          "name": "stderr",
          "output_type": "stream",
          "text": [
            "\n",
            "PYDEV DEBUGGER WARNING:\n",
            "sys.settrace() should not be used when the debugger is being used.\n",
            "This may cause the debugger to stop working correctly.\n",
            "If this is needed, please check: \n",
            "http://pydev.blogspot.com/2007/06/why-cant-pydev-debugger-work-with.html\n",
            "to see how to restore the debug tracing back correctly.\n",
            "Call Location:\n",
            "  File \"/usr/lib/python3.10/bdb.py\", line 336, in set_trace\n",
            "    sys.settrace(self.trace_dispatch)\n",
            "\n"
          ]
        },
        {
          "name": "stdout",
          "output_type": "stream",
          "text": [
            "> \u001b[0;32m<ipython-input-32-9b1eda87c417>\u001b[0m(10)\u001b[0;36mbackward\u001b[0;34m()\u001b[0m\n",
            "\u001b[0;32m      6 \u001b[0;31m\u001b[0;34m\u001b[0m\u001b[0m\n",
            "\u001b[0m\u001b[0;32m      7 \u001b[0;31m    \u001b[0;32mdef\u001b[0m \u001b[0mbackward\u001b[0m\u001b[0;34m(\u001b[0m\u001b[0mself\u001b[0m\u001b[0;34m)\u001b[0m\u001b[0;34m:\u001b[0m\u001b[0;34m\u001b[0m\u001b[0;34m\u001b[0m\u001b[0m\n",
            "\u001b[0m\u001b[0;32m      8 \u001b[0;31m        \u001b[0;31m# (self.inp>0).float() -> tensor([1., 0., 1.,....])\u001b[0m\u001b[0;34m\u001b[0m\u001b[0;34m\u001b[0m\u001b[0m\n",
            "\u001b[0m\u001b[0;32m      9 \u001b[0;31m        \u001b[0mpdb\u001b[0m\u001b[0;34m.\u001b[0m\u001b[0mset_trace\u001b[0m\u001b[0;34m(\u001b[0m\u001b[0;34m)\u001b[0m\u001b[0;34m\u001b[0m\u001b[0;34m\u001b[0m\u001b[0m\n",
            "\u001b[0m\u001b[0;32m---> 10 \u001b[0;31m        \u001b[0mself\u001b[0m\u001b[0;34m.\u001b[0m\u001b[0minp\u001b[0m\u001b[0;34m.\u001b[0m\u001b[0mg\u001b[0m \u001b[0;34m=\u001b[0m \u001b[0mself\u001b[0m\u001b[0;34m.\u001b[0m\u001b[0mout\u001b[0m\u001b[0;34m.\u001b[0m\u001b[0mg\u001b[0m \u001b[0;34m*\u001b[0m \u001b[0;34m(\u001b[0m\u001b[0mself\u001b[0m\u001b[0;34m.\u001b[0m\u001b[0minp\u001b[0m \u001b[0;34m>\u001b[0m \u001b[0;36m0\u001b[0m\u001b[0;34m)\u001b[0m\u001b[0;34m.\u001b[0m\u001b[0mfloat\u001b[0m\u001b[0;34m(\u001b[0m\u001b[0;34m)\u001b[0m \u001b[0;31m# d_Loss/d_out * d_out/d_int\u001b[0m\u001b[0;34m\u001b[0m\u001b[0;34m\u001b[0m\u001b[0m\n",
            "\u001b[0m\n",
            "ipdb> c\n"
          ]
        },
        {
          "name": "stderr",
          "output_type": "stream",
          "text": [
            "\n",
            "PYDEV DEBUGGER WARNING:\n",
            "sys.settrace() should not be used when the debugger is being used.\n",
            "This may cause the debugger to stop working correctly.\n",
            "If this is needed, please check: \n",
            "http://pydev.blogspot.com/2007/06/why-cant-pydev-debugger-work-with.html\n",
            "to see how to restore the debug tracing back correctly.\n",
            "Call Location:\n",
            "  File \"/usr/lib/python3.10/bdb.py\", line 347, in set_continue\n",
            "    sys.settrace(None)\n",
            "\n"
          ]
        }
      ],
      "source": [
        "model.backward()"
      ]
    },
    {
      "cell_type": "code",
      "execution_count": null,
      "metadata": {
        "colab": {
          "base_uri": "https://localhost:8080/",
          "height": 630
        },
        "id": "S87M3y2Fnl_d",
        "outputId": "76003c2a-3cc3-4681-8917-bb5089da1188"
      },
      "outputs": [
        {
          "ename": "AssertionError",
          "evalue": "close:\ntensor([[    -0.00,     -0.01,      0.00,  ...,     -0.00,      0.00,      0.00],\n        [    -0.03,     -0.03,      0.01,  ...,     -0.04,     -0.01,     -0.01],\n        [     0.00,      0.00,     -0.00,  ...,      0.00,     -0.00,      0.00],\n        ...,\n        [    -0.00,     -0.02,      0.01,  ...,     -0.00,     -0.00,      0.00],\n        [    -0.02,     -0.01,      0.01,  ...,     -0.01,      0.01,     -0.00],\n        [    -0.00,     -0.00,      0.00,  ...,     -0.00,     -0.00,     -0.00]])\ntensor([[ 0.00, -0.01, -0.01,  ..., -0.01,  0.00, -0.00],\n        [-0.00,  0.00,  0.01,  ..., -0.00, -0.00, -0.00],\n        [ 0.01,  0.00, -0.02,  ...,  0.00,  0.00,  0.00],\n        ...,\n        [ 0.00,  0.01, -0.01,  ...,  0.00,  0.01,  0.02],\n        [ 0.01, -0.00, -0.01,  ..., -0.00,  0.00,  0.01],\n        [ 0.00, -0.00, -0.00,  ..., -0.01,  0.00,  0.02]])",
          "output_type": "error",
          "traceback": [
            "\u001b[0;31m---------------------------------------------------------------------------\u001b[0m",
            "\u001b[0;31mAssertionError\u001b[0m                            Traceback (most recent call last)",
            "\u001b[0;32m<ipython-input-40-8894bf48fb0e>\u001b[0m in \u001b[0;36m<cell line: 5>\u001b[0;34m()\u001b[0m\n\u001b[1;32m      3\u001b[0m \u001b[0mtest_close\u001b[0m\u001b[0;34m(\u001b[0m\u001b[0mw1g\u001b[0m\u001b[0;34m,\u001b[0m \u001b[0mw1\u001b[0m\u001b[0;34m.\u001b[0m\u001b[0mg\u001b[0m\u001b[0;34m,\u001b[0m \u001b[0meps\u001b[0m\u001b[0;34m=\u001b[0m\u001b[0;36m0.01\u001b[0m\u001b[0;34m)\u001b[0m\u001b[0;34m\u001b[0m\u001b[0;34m\u001b[0m\u001b[0m\n\u001b[1;32m      4\u001b[0m \u001b[0mtest_close\u001b[0m\u001b[0;34m(\u001b[0m\u001b[0mb1g\u001b[0m\u001b[0;34m,\u001b[0m \u001b[0mb1\u001b[0m\u001b[0;34m.\u001b[0m\u001b[0mg\u001b[0m\u001b[0;34m,\u001b[0m \u001b[0meps\u001b[0m\u001b[0;34m=\u001b[0m\u001b[0;36m0.01\u001b[0m\u001b[0;34m)\u001b[0m\u001b[0;34m\u001b[0m\u001b[0;34m\u001b[0m\u001b[0m\n\u001b[0;32m----> 5\u001b[0;31m \u001b[0mtest_close\u001b[0m\u001b[0;34m(\u001b[0m\u001b[0mig\u001b[0m\u001b[0;34m,\u001b[0m \u001b[0mx_train\u001b[0m\u001b[0;34m.\u001b[0m\u001b[0mg\u001b[0m\u001b[0;34m,\u001b[0m \u001b[0meps\u001b[0m\u001b[0;34m=\u001b[0m\u001b[0;36m0.01\u001b[0m\u001b[0;34m)\u001b[0m\u001b[0;34m\u001b[0m\u001b[0;34m\u001b[0m\u001b[0m\n\u001b[0m",
            "\u001b[0;32m/usr/local/lib/python3.10/dist-packages/fastcore/test.py\u001b[0m in \u001b[0;36mtest_close\u001b[0;34m(a, b, eps)\u001b[0m\n\u001b[1;32m     61\u001b[0m \u001b[0;32mdef\u001b[0m \u001b[0mtest_close\u001b[0m\u001b[0;34m(\u001b[0m\u001b[0ma\u001b[0m\u001b[0;34m,\u001b[0m\u001b[0mb\u001b[0m\u001b[0;34m,\u001b[0m\u001b[0meps\u001b[0m\u001b[0;34m=\u001b[0m\u001b[0;36m1e-5\u001b[0m\u001b[0;34m)\u001b[0m\u001b[0;34m:\u001b[0m\u001b[0;34m\u001b[0m\u001b[0;34m\u001b[0m\u001b[0m\n\u001b[1;32m     62\u001b[0m     \u001b[0;34m\"`test` that `a` is within `eps` of `b`\"\u001b[0m\u001b[0;34m\u001b[0m\u001b[0;34m\u001b[0m\u001b[0m\n\u001b[0;32m---> 63\u001b[0;31m     \u001b[0mtest\u001b[0m\u001b[0;34m(\u001b[0m\u001b[0ma\u001b[0m\u001b[0;34m,\u001b[0m\u001b[0mb\u001b[0m\u001b[0;34m,\u001b[0m\u001b[0mpartial\u001b[0m\u001b[0;34m(\u001b[0m\u001b[0mis_close\u001b[0m\u001b[0;34m,\u001b[0m\u001b[0meps\u001b[0m\u001b[0;34m=\u001b[0m\u001b[0meps\u001b[0m\u001b[0;34m)\u001b[0m\u001b[0;34m,\u001b[0m\u001b[0;34m'close'\u001b[0m\u001b[0;34m)\u001b[0m\u001b[0;34m\u001b[0m\u001b[0;34m\u001b[0m\u001b[0m\n\u001b[0m\u001b[1;32m     64\u001b[0m \u001b[0;34m\u001b[0m\u001b[0m\n\u001b[1;32m     65\u001b[0m \u001b[0;31m# %% ../nbs/00_test.ipynb 32\u001b[0m\u001b[0;34m\u001b[0m\u001b[0;34m\u001b[0m\u001b[0m\n",
            "\u001b[0;32m/usr/local/lib/python3.10/dist-packages/fastcore/test.py\u001b[0m in \u001b[0;36mtest\u001b[0;34m(a, b, cmp, cname)\u001b[0m\n\u001b[1;32m     25\u001b[0m     \u001b[0;34m\"`assert` that `cmp(a,b)`; display inputs and `cname or cmp.__name__` if it fails\"\u001b[0m\u001b[0;34m\u001b[0m\u001b[0;34m\u001b[0m\u001b[0m\n\u001b[1;32m     26\u001b[0m     \u001b[0;32mif\u001b[0m \u001b[0mcname\u001b[0m \u001b[0;32mis\u001b[0m \u001b[0;32mNone\u001b[0m\u001b[0;34m:\u001b[0m \u001b[0mcname\u001b[0m\u001b[0;34m=\u001b[0m\u001b[0mcmp\u001b[0m\u001b[0;34m.\u001b[0m\u001b[0m__name__\u001b[0m\u001b[0;34m\u001b[0m\u001b[0;34m\u001b[0m\u001b[0m\n\u001b[0;32m---> 27\u001b[0;31m     \u001b[0;32massert\u001b[0m \u001b[0mcmp\u001b[0m\u001b[0;34m(\u001b[0m\u001b[0ma\u001b[0m\u001b[0;34m,\u001b[0m\u001b[0mb\u001b[0m\u001b[0;34m)\u001b[0m\u001b[0;34m,\u001b[0m\u001b[0;34mf\"{cname}:\\n{a}\\n{b}\"\u001b[0m\u001b[0;34m\u001b[0m\u001b[0;34m\u001b[0m\u001b[0m\n\u001b[0m\u001b[1;32m     28\u001b[0m \u001b[0;34m\u001b[0m\u001b[0m\n\u001b[1;32m     29\u001b[0m \u001b[0;31m# %% ../nbs/00_test.ipynb 16\u001b[0m\u001b[0;34m\u001b[0m\u001b[0;34m\u001b[0m\u001b[0m\n",
            "\u001b[0;31mAssertionError\u001b[0m: close:\ntensor([[    -0.00,     -0.01,      0.00,  ...,     -0.00,      0.00,      0.00],\n        [    -0.03,     -0.03,      0.01,  ...,     -0.04,     -0.01,     -0.01],\n        [     0.00,      0.00,     -0.00,  ...,      0.00,     -0.00,      0.00],\n        ...,\n        [    -0.00,     -0.02,      0.01,  ...,     -0.00,     -0.00,      0.00],\n        [    -0.02,     -0.01,      0.01,  ...,     -0.01,      0.01,     -0.00],\n        [    -0.00,     -0.00,      0.00,  ...,     -0.00,     -0.00,     -0.00]])\ntensor([[ 0.00, -0.01, -0.01,  ..., -0.01,  0.00, -0.00],\n        [-0.00,  0.00,  0.01,  ..., -0.00, -0.00, -0.00],\n        [ 0.01,  0.00, -0.02,  ...,  0.00,  0.00,  0.00],\n        ...,\n        [ 0.00,  0.01, -0.01,  ...,  0.00,  0.01,  0.02],\n        [ 0.01, -0.00, -0.01,  ..., -0.00,  0.00,  0.01],\n        [ 0.00, -0.00, -0.00,  ..., -0.01,  0.00,  0.02]])"
          ]
        }
      ],
      "source": [
        "test_close(w2g, w2.g, eps=0.01)\n",
        "test_close(b2g, b2.g, eps=0.01)\n",
        "test_close(w1g, w1.g, eps=0.01)\n",
        "test_close(b1g, b1.g, eps=0.01)\n",
        "test_close(ig, x_train.g, eps=0.01)"
      ]
    },
    {
      "cell_type": "markdown",
      "metadata": {
        "id": "guv_t5xBnl_d"
      },
      "source": [
        "### Creamos la clase Module para que hereden el resto de capas."
      ]
    },
    {
      "cell_type": "code",
      "execution_count": null,
      "metadata": {
        "id": "0aN1ql50nl_d"
      },
      "outputs": [],
      "source": [
        "class Module():\n",
        "    def __call__(self, *args):\n",
        "        self.args = args   # lista de argumentos pasados en la llamada __cal__. Almacena los parmátros de entrada\n",
        "        #pdb.set_trace()\n",
        "        self.out = self.forward(*args)  # Almacena el parámetro de salida ejecutando fordward con los parámetros de entrada\n",
        "        #pdb.set_trace()\n",
        "        return self.out\n",
        "\n",
        "    def forward(self): raise Exception('not implemented')\n",
        "    def backward(self): self.bwd(self.out, *self.args)\n",
        "    def bwd(self): raise Exception('not implemented')"
      ]
    },
    {
      "cell_type": "code",
      "execution_count": null,
      "metadata": {
        "id": "2KRfo9hSnl_e"
      },
      "outputs": [],
      "source": [
        "class Relu(Module):\n",
        "    def forward(self, inp): return inp.clamp_min(0.)\n",
        "    def bwd(self, out,inp ):\n",
        "        #pdb.set_trace()\n",
        "        inp.g = (inp>0).float() * out.g"
      ]
    },
    {
      "cell_type": "code",
      "execution_count": null,
      "metadata": {
        "id": "Cr0rDuminl_e"
      },
      "outputs": [],
      "source": [
        "class Lin(Module):\n",
        "    def __init__(self, ninp, nout):\n",
        "        self.w = torch.randn(ninp,nout)\n",
        "        self.b = torch.zeros(nout)\n",
        "\n",
        "    def forward(self, inp):\n",
        "        return inp@self.w + self.b\n",
        "    def bwd(self, out, inp):\n",
        "        inp.g = self.out.g @ self.w.t()\n",
        "\n",
        "        self.w.g = inp.t() @ self.out.g\n",
        "        self.b.g = self.out.g.sum(0)"
      ]
    },
    {
      "cell_type": "code",
      "execution_count": null,
      "metadata": {
        "id": "BGnGOvOTnl_e"
      },
      "outputs": [],
      "source": [
        "class Mse(Module):\n",
        "    def forward (self, inp, targ):\n",
        "        #pdb.set_trace()\n",
        "        return (inp.squeeze() - targ).pow(2).mean()\n",
        "    def bwd(self, out, inp, targ):\n",
        "\n",
        "        inp.g = 2*(inp.squeeze()-targ).unsqueeze(-1) / targ.shape[0]"
      ]
    },
    {
      "cell_type": "code",
      "execution_count": null,
      "metadata": {
        "id": "c5YPNTDuSLvv"
      },
      "outputs": [],
      "source": [
        "class Modelo():\n",
        "    def __init__(self,m,nh,nout):\n",
        "        self.layers=[Lin(m,nh),Relu(),Lin(nh,nout)]\n",
        "        self.loss = Mse()\n",
        "\n",
        "    def __call__(self,x,y):\n",
        "\n",
        "\n",
        "        for layer in self.layers:\n",
        "            x=layer(x)\n",
        "\n",
        "        return self.loss(x,y)\n",
        "\n",
        "    def backward(self):\n",
        "        self.loss.backward()\n",
        "        #pdb.set_trace()\n",
        "        for layer in reversed(self.layers):\n",
        "            layer.backward()"
      ]
    },
    {
      "cell_type": "code",
      "execution_count": null,
      "metadata": {
        "id": "UoCADuLFnl_e"
      },
      "outputs": [],
      "source": [
        "model = Modelo(m,50,1)"
      ]
    },
    {
      "cell_type": "code",
      "execution_count": null,
      "metadata": {
        "id": "wKegM4aTnl_e"
      },
      "outputs": [],
      "source": [
        "loss = model(x_train, y_train)"
      ]
    },
    {
      "cell_type": "code",
      "execution_count": null,
      "metadata": {
        "colab": {
          "base_uri": "https://localhost:8080/"
        },
        "id": "28q38U6YUdir",
        "outputId": "843a26b3-dfeb-4252-c440-c61521682b2c"
      },
      "outputs": [
        {
          "data": {
            "text/plain": [
              "tensor(744.75)"
            ]
          },
          "execution_count": 48,
          "metadata": {},
          "output_type": "execute_result"
        }
      ],
      "source": [
        "loss"
      ]
    },
    {
      "cell_type": "code",
      "execution_count": null,
      "metadata": {
        "colab": {
          "base_uri": "https://localhost:8080/"
        },
        "id": "pX0L0cFznl_f",
        "outputId": "0b965870-8ac8-41aa-a98b-ef8c43c1e930"
      },
      "outputs": [
        {
          "data": {
            "text/plain": [
              "<bound method Modelo.backward of <__main__.Modelo object at 0x7ea9918ec1c0>>"
            ]
          },
          "execution_count": 49,
          "metadata": {},
          "output_type": "execute_result"
        }
      ],
      "source": [
        "model.backward\n"
      ]
    },
    {
      "cell_type": "code",
      "execution_count": null,
      "metadata": {
        "id": "YibOAsoOQ7OA"
      },
      "outputs": [],
      "source": [
        "from tqdm import tqdm"
      ]
    },
    {
      "cell_type": "code",
      "execution_count": null,
      "metadata": {
        "id": "rOX7wJ0oy9oT"
      },
      "outputs": [],
      "source": [
        "lr=0.05\n",
        "epochs = 3\n",
        "bs = 128\n",
        "model = Modelo(m,nh,1)"
      ]
    },
    {
      "cell_type": "code",
      "execution_count": null,
      "metadata": {
        "colab": {
          "base_uri": "https://localhost:8080/"
        },
        "id": "wZr9_0bPv1IY",
        "outputId": "e15981b9-816d-4236-834f-3e90ef32ed54"
      },
      "outputs": [
        {
          "data": {
            "text/plain": [
              "tensor(331.52)"
            ]
          },
          "execution_count": 62,
          "metadata": {},
          "output_type": "execute_result"
        }
      ],
      "source": [
        "model(x_train[0:2],y_train[0:2])"
      ]
    },
    {
      "cell_type": "code",
      "execution_count": null,
      "metadata": {
        "id": "aMYHMbXUygPB"
      },
      "outputs": [],
      "source": [
        "model = Modelo(m,50,1)"
      ]
    },
    {
      "cell_type": "code",
      "execution_count": null,
      "metadata": {
        "colab": {
          "base_uri": "https://localhost:8080/"
        },
        "id": "eZazuK2hwM4b",
        "outputId": "fc160f9d-e031-4dc7-ae32-54ebfffdf846"
      },
      "outputs": [
        {
          "name": "stderr",
          "output_type": "stream",
          "text": [
            "100%|██████████| 391/391 [00:00<00:00, 859.09it/s]\n"
          ]
        },
        {
          "name": "stdout",
          "output_type": "stream",
          "text": [
            "epoch 0: loss 23352650.0\n",
            "\n"
          ]
        },
        {
          "name": "stderr",
          "output_type": "stream",
          "text": [
            "100%|██████████| 391/391 [00:00<00:00, 788.52it/s]\n"
          ]
        },
        {
          "name": "stdout",
          "output_type": "stream",
          "text": [
            "epoch 1: loss 40.87119674682617\n",
            "\n"
          ]
        },
        {
          "name": "stderr",
          "output_type": "stream",
          "text": [
            "100%|██████████| 391/391 [00:00<00:00, 897.46it/s]"
          ]
        },
        {
          "name": "stdout",
          "output_type": "stream",
          "text": [
            "epoch 2: loss 40.87119674682617\n",
            "\n"
          ]
        },
        {
          "name": "stderr",
          "output_type": "stream",
          "text": [
            "\n"
          ]
        }
      ],
      "source": [
        "for epoch in range(epochs):\n",
        "\n",
        "    eloss=0.\n",
        "    for i in tqdm(range(0,n,bs)):\n",
        "\n",
        "        x = x_train[i:(i+min(bs,(n-i)))]\n",
        "        y = y_train[i:(i+min(bs,(n-i)))]\n",
        "\n",
        "\n",
        "        loss = model(x, y)\n",
        "        eloss+=loss\n",
        "        model.backward()\n",
        "\n",
        "        #print(loss)\n",
        "\n",
        "        with torch.no_grad():\n",
        "            #pdb.set_trace()\n",
        "            model.layers[0].w -= lr * model.layers[0].w.g\n",
        "            model.layers[0].b -= lr * model.layers[0].b.g\n",
        "            model.layers[2].w -= lr * model.layers[2].w.g\n",
        "            model.layers[2].b -= lr *model.layers[2].b.g\n",
        "\n",
        "\n",
        "\n",
        "    print(f'epoch {epoch}: loss {eloss/min(bs,(n-i))}\\n')"
      ]
    },
    {
      "cell_type": "markdown",
      "metadata": {
        "id": "XgTlSuK-nl_f"
      },
      "source": [
        "### Autograd"
      ]
    },
    {
      "cell_type": "markdown",
      "metadata": {
        "id": "-0GKbUZM3mT0"
      },
      "source": [
        "Usamos pytorch para generar el mismo código. \\\n",
        "Pytorch ya tiene la clase Module implementada.\n",
        "\n",
        "En este caso vamos a iniciar los pesos dentro del init de la clase Linear. Solamente tenemos que indicar las dimensiones.\n",
        "\n",
        "No tenemos que utilizar backward porque de eso se ancarga directamente Pytorch"
      ]
    },
    {
      "cell_type": "code",
      "execution_count": null,
      "metadata": {
        "id": "7tJkxP9mBNpo"
      },
      "outputs": [],
      "source": [
        "n,m = x_train.shape\n",
        "c = y_train.max()+1\n",
        "nh = 50"
      ]
    },
    {
      "cell_type": "code",
      "execution_count": null,
      "metadata": {
        "id": "B9QOXZL9nl_f"
      },
      "outputs": [],
      "source": [
        "from torch import nn\n",
        "import torch.nn.functional as F"
      ]
    },
    {
      "cell_type": "code",
      "execution_count": null,
      "metadata": {
        "id": "ugblbG2Xnl_f"
      },
      "outputs": [],
      "source": [
        "class Linear(nn.Module):\n",
        "    def __init__(self, n_in, n_out):\n",
        "        super().__init__()\n",
        "        self.w = torch.randn(n_in,n_out).requires_grad_()\n",
        "        self.b = torch.zeros(n_out).requires_grad_()\n",
        "    def forward(self, x):\n",
        "        #pdb.set_trace()\n",
        "        return x@self.w + self.b"
      ]
    },
    {
      "cell_type": "code",
      "execution_count": null,
      "metadata": {
        "id": "pmxV7szInl_g"
      },
      "outputs": [],
      "source": [
        "class Modelo(nn.Module):\n",
        "    def __init__(self, n_in, nh, n_out):\n",
        "        super().__init__()\n",
        "        self.layers = [Linear(n_in,nh), nn.ReLU(), Linear(nh,n_out)]\n",
        "\n",
        "    def __call__(self, x):\n",
        "        for l in self.layers: x = l(x)\n",
        "        return x"
      ]
    },
    {
      "cell_type": "code",
      "execution_count": null,
      "metadata": {
        "id": "bWO29vJJByuZ"
      },
      "outputs": [],
      "source": [
        "model = Modelo(m,nh,c)\n",
        "pred = model(x_train)\n",
        "assert (list(pred.shape) == [50000,10])"
      ]
    },
    {
      "cell_type": "code",
      "execution_count": null,
      "metadata": {
        "id": "3rSYxlyMnl_g"
      },
      "outputs": [],
      "source": []
    },
    {
      "cell_type": "markdown",
      "metadata": {
        "id": "z3ccg0ZrGP7C"
      },
      "source": [
        "## Cross entropy loss"
      ]
    },
    {
      "cell_type": "code",
      "execution_count": null,
      "metadata": {
        "id": "gUqnJtabGSkT"
      },
      "outputs": [],
      "source": [
        "def softmax(x):\n",
        "    return x.exp()/x.exp().sum(-1,keepdim=True) # keepdim mantiene la dimensión y permite sumar solamente la columna\n"
      ]
    },
    {
      "cell_type": "code",
      "execution_count": null,
      "metadata": {
        "id": "7cx0E4q0G1h9"
      },
      "outputs": [],
      "source": [
        "x=[[1,2],[3,8],[7,10],[2.1,2.3]]\n",
        "x=tensor(x)\n",
        "a=softmax(x)\n",
        "torch.ones(a.shape[-1])\n",
        "\n",
        "a.sum(-1).shape\n",
        "test_close(a.sum(-1),torch.ones(a.shape[0]))"
      ]
    },
    {
      "cell_type": "code",
      "execution_count": null,
      "metadata": {
        "id": "Cgm1sskpLcKj"
      },
      "outputs": [],
      "source": [
        "def log_softmax(x):\n",
        "    return (x.exp()/x.exp().sum(-1,keepdim=True)).log() # keepdim mantiene la dimensión y permite sumar solamente la columna\n"
      ]
    },
    {
      "cell_type": "code",
      "execution_count": null,
      "metadata": {
        "colab": {
          "base_uri": "https://localhost:8080/"
        },
        "id": "4cjKN-UELvey",
        "outputId": "8485ceeb-fd91-49ed-ce5a-db4dbb1157fd"
      },
      "outputs": [
        {
          "data": {
            "text/plain": [
              "tensor([[-1.31, -0.31],\n",
              "        [-5.01, -0.01],\n",
              "        [-3.05, -0.05],\n",
              "        [-0.80, -0.60]])"
            ]
          },
          "execution_count": 73,
          "metadata": {},
          "output_type": "execute_result"
        }
      ],
      "source": [
        "log_softmax(x)"
      ]
    },
    {
      "cell_type": "code",
      "execution_count": null,
      "metadata": {
        "id": "AxBOcbNaL1z4"
      },
      "outputs": [],
      "source": [
        "def log_softmax(x): return x - x.exp().sum(-1,keepdim=True).log()"
      ]
    },
    {
      "cell_type": "code",
      "execution_count": null,
      "metadata": {
        "colab": {
          "base_uri": "https://localhost:8080/"
        },
        "id": "HTETyfaKMDUm",
        "outputId": "fb496df1-d8e5-4724-88e4-cfbd188762ca"
      },
      "outputs": [
        {
          "data": {
            "text/plain": [
              "tensor([[-1.31, -0.31],\n",
              "        [-5.01, -0.01],\n",
              "        [-3.05, -0.05],\n",
              "        [-0.80, -0.60]])"
            ]
          },
          "execution_count": 75,
          "metadata": {},
          "output_type": "execute_result"
        }
      ],
      "source": [
        "log_softmax(x)"
      ]
    },
    {
      "cell_type": "markdown",
      "metadata": {
        "id": "kNaZ_PsZMFEW"
      },
      "source": [
        "# Basic training loop"
      ]
    },
    {
      "cell_type": "markdown",
      "metadata": {
        "id": "nqTt5krhD_MO"
      },
      "source": [
        "## variables básica"
      ]
    },
    {
      "cell_type": "code",
      "execution_count": null,
      "metadata": {
        "id": "GVj5LAhcvzh8"
      },
      "outputs": [],
      "source": [
        "from torch import nn,tensor"
      ]
    },
    {
      "cell_type": "code",
      "execution_count": null,
      "metadata": {
        "id": "yXBH4eUuEC4d"
      },
      "outputs": [],
      "source": [
        "epochs=8\n",
        "bs=128\n",
        "lr=.01\n",
        "nh=50\n",
        "m,n=x_train.shape[0],x_train.shape[1]\n",
        "\n",
        "o=10"
      ]
    },
    {
      "cell_type": "code",
      "execution_count": null,
      "metadata": {
        "id": "EEl9dBYaEw2M"
      },
      "outputs": [],
      "source": [
        "assert (n,nh,o)==(784,50,10)"
      ]
    },
    {
      "cell_type": "markdown",
      "metadata": {
        "id": "eLUJMQvNDLTG"
      },
      "source": [
        "## Definición del modelo"
      ]
    },
    {
      "cell_type": "code",
      "execution_count": null,
      "metadata": {
        "id": "IQ4NL3oEDOfP"
      },
      "outputs": [],
      "source": [
        "class Modelo(nn.Module):\n",
        "    def __init__(self,n,nh,o):\n",
        "        super().__init__()\n",
        "        self.layers=[nn.Linear(n,nh),nn.ReLU(),nn.Linear(nh,o)]\n",
        "\n",
        "    def forward(self,x):\n",
        "        for layer in self.layers:\n",
        "            x=layer(x)\n",
        "        m = nn.LogSoftmax(dim=1)\n",
        "        return m(x)"
      ]
    },
    {
      "cell_type": "code",
      "execution_count": null,
      "metadata": {
        "colab": {
          "base_uri": "https://localhost:8080/"
        },
        "id": "u-3ye_rfE7Tl",
        "outputId": "9feddb5d-7f32-4595-d804-6857e49b3221"
      },
      "outputs": [
        {
          "data": {
            "text/plain": [
              "tensor([[-2.17, -2.23, -2.23, -2.49, -2.30, -2.37, -2.35, -2.35, -2.20, -2.39],\n",
              "        [-2.15, -2.20, -2.19, -2.54, -2.22, -2.36, -2.32, -2.34, -2.30, -2.49],\n",
              "        [-2.26, -2.30, -2.21, -2.52, -2.30, -2.39, -2.16, -2.30, -2.24, -2.40],\n",
              "        [-2.15, -2.27, -2.28, -2.52, -2.29, -2.45, -2.21, -2.34, -2.24, -2.32]], grad_fn=<LogSoftmaxBackward0>)"
            ]
          },
          "execution_count": 69,
          "metadata": {},
          "output_type": "execute_result"
        }
      ],
      "source": [
        "\n",
        "model=Modelo(n,nh,o)\n",
        "model(x_train[0:4])"
      ]
    },
    {
      "cell_type": "code",
      "execution_count": null,
      "metadata": {
        "id": "MdhQGrKWFoQd"
      },
      "outputs": [],
      "source": [
        "assert model.forward(x_train[0:4]).shape[0] == 4\n",
        "assert model.forward(x_train[0:4]).shape[1] == 10"
      ]
    },
    {
      "cell_type": "markdown",
      "metadata": {
        "id": "wRzlon2bGA5X"
      },
      "source": [
        "## Training Loop"
      ]
    },
    {
      "cell_type": "code",
      "execution_count": null,
      "metadata": {
        "id": "8UOhtqsJKsMf"
      },
      "outputs": [],
      "source": [
        "from torch import nn\n",
        "loss_func = nn.NLLLoss()"
      ]
    },
    {
      "cell_type": "code",
      "execution_count": null,
      "metadata": {
        "colab": {
          "base_uri": "https://localhost:8080/"
        },
        "id": "ZonG4wQUMV2L",
        "outputId": "7abaa751-83b1-4c48-b25d-8c0c4fbf4f0b"
      },
      "outputs": [
        {
          "name": "stdout",
          "output_type": "stream",
          "text": [
            "error 2.29   /   accuracy 0.13%\n",
            "error 2.21   /   accuracy 0.36%\n",
            "error 2.06   /   accuracy 0.49%\n",
            "error 1.79   /   accuracy 0.53%\n",
            "error 1.41   /   accuracy 0.65%\n",
            "error 1.01   /   accuracy 0.75%\n",
            "error 0.72   /   accuracy 0.78%\n",
            "error 0.55   /   accuracy 0.81%\n"
          ]
        }
      ],
      "source": [
        "for epoch in range(epochs):\n",
        "\n",
        "    error=[]\n",
        "    accuracy=[]\n",
        "    for i in range(0,n,bs):\n",
        "        x = x_train[i:i+min(bs,n-i)]\n",
        "        y = y_train[i:i+min(bs,n-i)]\n",
        "\n",
        "        pred = model.forward(x)\n",
        "        #pdb.set_trace()\n",
        "        out = loss_func(pred,y)\n",
        "        error.append(out)\n",
        "        accuracy.append((pred.argmax(1) == y).sum())\n",
        "\n",
        "        out.backward()\n",
        "\n",
        "\n",
        "\n",
        "        with torch.no_grad():\n",
        "            for layer in model.layers:\n",
        "                for param in layer.parameters():\n",
        "                    param -= lr*param.grad\n",
        "            model.zero_grad()\n",
        "\n",
        "\n",
        "    print(f'error {sum(error)/len(error):.2f}   /   accuracy {sum(accuracy)/n:.2f}%')\n"
      ]
    },
    {
      "cell_type": "code",
      "execution_count": null,
      "metadata": {
        "id": "hiJ9_nQwxseZ"
      },
      "outputs": [],
      "source": [
        "def accuracy(out, yb):\n",
        "    return (out.argmax(dim=1)==yb).float().mean().detach()\n",
        "\n",
        "def report(epoch,loss, preds, yb):\n",
        "    print(f'epoch: {epoch+1} , loss: {loss:.2f}, acc: {accuracy(preds, yb):.2f}')"
      ]
    },
    {
      "cell_type": "code",
      "execution_count": null,
      "metadata": {
        "id": "hdkoUd8X0WhB"
      },
      "outputs": [],
      "source": [
        "#loss_func = nn.functional.nll_loss"
      ]
    },
    {
      "cell_type": "code",
      "execution_count": null,
      "metadata": {
        "id": "WX3fpqR1yZ9y"
      },
      "outputs": [],
      "source": [
        "\n",
        "def fit(epochs,lr):\n",
        "    for epoch in range(epochs):\n",
        "\n",
        "        for i in range(0,n,bs):\n",
        "            s = slice(i,min(n,i+bs))\n",
        "            xb,yb = x_train[s],y_train[s]\n",
        "            preds = model(xb)\n",
        "            #pdb.set_trace()\n",
        "            loss = loss_func(preds,yb)\n",
        "            loss.backward()\n",
        "\n",
        "            with torch.no_grad():\n",
        "                for layer in model.layers:\n",
        "                    for param in layer.parameters():\n",
        "                        param -= param.grad * lr\n",
        "                model.zero_grad()\n",
        "        #pdb.set_trace()\n",
        "        report(epoch,loss, preds, yb)\n",
        "\n"
      ]
    },
    {
      "cell_type": "code",
      "execution_count": null,
      "metadata": {
        "colab": {
          "base_uri": "https://localhost:8080/"
        },
        "id": "jD8_ROdszq1c",
        "outputId": "ee4cb737-36b0-4dd7-97e2-9ac270452938"
      },
      "outputs": [
        {
          "name": "stdout",
          "output_type": "stream",
          "text": [
            "epoch: 1 , loss: 2.25, acc: 0.31\n",
            "epoch: 2 , loss: 1.99, acc: 0.44\n",
            "epoch: 3 , loss: 1.46, acc: 0.44\n",
            "epoch: 4 , loss: 0.81, acc: 0.81\n",
            "epoch: 5 , loss: 0.53, acc: 0.81\n",
            "epoch: 6 , loss: 0.18, acc: 0.94\n",
            "epoch: 7 , loss: 0.12, acc: 1.00\n"
          ]
        }
      ],
      "source": [
        "model=Modelo(n,nh,o)\n",
        "fit(7,0.02)"
      ]
    },
    {
      "cell_type": "markdown",
      "metadata": {
        "id": "nxFhfcDdvWYP"
      },
      "source": [
        "Usamos Cross entropy loss\n"
      ]
    },
    {
      "cell_type": "code",
      "execution_count": null,
      "metadata": {
        "id": "ERLSBfBBwMKe"
      },
      "outputs": [],
      "source": [
        "import torch.nn.functional as F"
      ]
    },
    {
      "cell_type": "code",
      "execution_count": null,
      "metadata": {
        "id": "ABl8z7iCvcb3"
      },
      "outputs": [],
      "source": [
        "class MLP(nn.Module):\n",
        "    def __init__(self,n,nh,o):\n",
        "        super().__init__()\n",
        "        self.l1 = nn.Linear(n,nh)\n",
        "        self.l2 = nn.Linear(nh,o)\n",
        "        self.relu = nn.ReLU()\n",
        "\n",
        "    def forward(self,x):\n",
        "       return self.l2(self.relu(self.l1(x)))"
      ]
    },
    {
      "cell_type": "code",
      "execution_count": null,
      "metadata": {
        "id": "Gl8O9j95vpQp"
      },
      "outputs": [],
      "source": [
        "loss_func = F.cross_entropy"
      ]
    },
    {
      "cell_type": "code",
      "execution_count": null,
      "metadata": {
        "id": "tnuLm5N0vnoW"
      },
      "outputs": [],
      "source": [
        "\n",
        "def fit(epochs,lr):\n",
        "    for epoch in range(epochs):\n",
        "\n",
        "        for i in range(0,n,bs):\n",
        "            s = slice(i,min(n,i+bs))\n",
        "            xb,yb = x_train[s],y_train[s]\n",
        "            preds = model(xb)\n",
        "            #pdb.set_trace()\n",
        "            loss = loss_func(preds,yb)\n",
        "            loss.backward()\n",
        "\n",
        "            with torch.no_grad():\n",
        "                for param in model.parameters():\n",
        "                        param -= param.grad * lr\n",
        "                model.zero_grad()\n",
        "        #pdb.set_trace()\n",
        "        report(epoch,loss, preds, yb)"
      ]
    },
    {
      "cell_type": "code",
      "execution_count": null,
      "metadata": {
        "colab": {
          "base_uri": "https://localhost:8080/"
        },
        "id": "021X-NN1vvvJ",
        "outputId": "7b24488c-2ceb-48cc-e881-49799492e174"
      },
      "outputs": [
        {
          "name": "stdout",
          "output_type": "stream",
          "text": [
            "epoch: 1 , loss: 1.75, acc: 0.50\n",
            "epoch: 2 , loss: 1.18, acc: 0.56\n",
            "epoch: 3 , loss: 0.91, acc: 0.69\n",
            "epoch: 4 , loss: 0.40, acc: 0.94\n",
            "epoch: 5 , loss: 0.37, acc: 0.94\n"
          ]
        }
      ],
      "source": [
        "model=MLP(n,nh,o)\n",
        "fit(5,0.5)"
      ]
    },
    {
      "cell_type": "code",
      "execution_count": null,
      "metadata": {
        "colab": {
          "base_uri": "https://localhost:8080/"
        },
        "id": "LDV6HuP50s7n",
        "outputId": "7715e665-f4cc-459e-e26c-515b69d3a9f7"
      },
      "outputs": [
        {
          "name": "stdout",
          "output_type": "stream",
          "text": [
            "l1: Linear(in_features=784, out_features=50, bias=True)\n",
            "l2: Linear(in_features=50, out_features=10, bias=True)\n",
            "relu: ReLU()\n"
          ]
        }
      ],
      "source": [
        "\n",
        "for name,l in model.named_children(): print(f\"{name}: {l}\")"
      ]
    },
    {
      "cell_type": "code",
      "execution_count": null,
      "metadata": {
        "colab": {
          "base_uri": "https://localhost:8080/"
        },
        "id": "I6ET3OgT1Ids",
        "outputId": "9d224e75-b6ca-4344-c657-8bad81319364"
      },
      "outputs": [
        {
          "name": "stdout",
          "output_type": "stream",
          "text": [
            "epoch: 1 , loss: 1.77, acc: 0.50\n",
            "epoch: 2 , loss: 1.14, acc: 0.50\n",
            "epoch: 3 , loss: 0.64, acc: 0.81\n",
            "epoch: 4 , loss: 0.44, acc: 0.94\n",
            "epoch: 5 , loss: 0.28, acc: 0.94\n",
            "epoch: 6 , loss: 0.28, acc: 0.94\n",
            "epoch: 7 , loss: 0.10, acc: 1.00\n"
          ]
        }
      ],
      "source": [
        "model=nn.Sequential(nn.Linear(n,nh), nn.ReLU(), nn.Linear(nh,o))\n",
        "fit(7,0.5)"
      ]
    },
    {
      "cell_type": "markdown",
      "metadata": {
        "id": "uihSxS1O10yi"
      },
      "source": [
        "## Añadimos optimizador"
      ]
    },
    {
      "cell_type": "code",
      "execution_count": null,
      "metadata": {
        "id": "l1fz61_72P9N"
      },
      "outputs": [],
      "source": [
        "class Optimizer():\n",
        "    def __init__(self,parameters, lr=.5):\n",
        "        self.parameters = list(parameters)\n",
        "        self.lr = lr\n",
        "\n",
        "    def step(self):\n",
        "        with torch.no_grad():\n",
        "            for p in self.parameters:\n",
        "                p -= p.grad * self.lr\n",
        "\n",
        "    def zero_grad(self):\n",
        "        for p in self.parameters:\n",
        "                p.grad.data.zero_()"
      ]
    },
    {
      "cell_type": "code",
      "execution_count": null,
      "metadata": {
        "id": "AIO3_Qo93jK_"
      },
      "outputs": [],
      "source": [
        "model=nn.Sequential(nn.Linear(n,nh), nn.ReLU(), nn.Linear(nh,o))"
      ]
    },
    {
      "cell_type": "code",
      "execution_count": null,
      "metadata": {
        "id": "REjzJDNz3noo"
      },
      "outputs": [],
      "source": [
        "opt = Optimizer(model.parameters(),0.5)"
      ]
    },
    {
      "cell_type": "code",
      "execution_count": null,
      "metadata": {
        "id": "ap_9DySC3ymC"
      },
      "outputs": [],
      "source": [
        "def fit(epochs):\n",
        "    for epoch in range(epochs):\n",
        "\n",
        "        for i in range(0,n,bs):\n",
        "            s = slice(i,min(n,i+bs))\n",
        "            xb,yb = x_train[s],y_train[s]\n",
        "            preds = model(xb)\n",
        "            #pdb.set_trace()\n",
        "            loss = loss_func(preds,yb)\n",
        "            loss.backward()\n",
        "\n",
        "            opt.step();\n",
        "            opt.zero_grad()\n",
        "        report(epoch,loss, preds, yb)"
      ]
    },
    {
      "cell_type": "code",
      "execution_count": null,
      "metadata": {
        "colab": {
          "base_uri": "https://localhost:8080/"
        },
        "id": "KlB3zhoo4afk",
        "outputId": "a85e6f20-32bc-4dde-bfeb-de6ec2113ee7"
      },
      "outputs": [
        {
          "name": "stdout",
          "output_type": "stream",
          "text": [
            "epoch: 1 , loss: 0.25, acc: 0.94\n",
            "epoch: 2 , loss: 0.16, acc: 0.94\n",
            "epoch: 3 , loss: 0.08, acc: 1.00\n",
            "epoch: 4 , loss: 0.06, acc: 1.00\n",
            "epoch: 5 , loss: 0.04, acc: 1.00\n"
          ]
        }
      ],
      "source": [
        "fit(5)"
      ]
    },
    {
      "cell_type": "markdown",
      "metadata": {
        "id": "w7skNc7Y57mZ"
      },
      "source": [
        "usando optimizador de pythorch"
      ]
    },
    {
      "cell_type": "code",
      "execution_count": null,
      "metadata": {
        "id": "qF_zRLDQ6R83"
      },
      "outputs": [],
      "source": [
        "from torch import optim"
      ]
    },
    {
      "cell_type": "code",
      "execution_count": null,
      "metadata": {
        "id": "JIUYZKBu5--o"
      },
      "outputs": [],
      "source": [
        "def get_model(lr=.5):\n",
        "    def init_normal(m):\n",
        "        if type(m) == nn.Linear:\n",
        "            nn.init.kaiming_normal_(m.weight)\n",
        "    model = nn.Sequential(nn.Linear(n,nh), nn.ReLU(), nn.Linear(nh,o))\n",
        "    model.apply(init_normal)\n",
        "    return model, optim.SGD(model.parameters(),lr=lr)\n",
        "\n",
        "\n"
      ]
    },
    {
      "cell_type": "code",
      "execution_count": null,
      "metadata": {
        "id": "XuGp8uJ06xqv"
      },
      "outputs": [],
      "source": [
        "model,opt =  get_model()"
      ]
    },
    {
      "cell_type": "code",
      "execution_count": null,
      "metadata": {
        "id": "YAg_Jf9U7FWb"
      },
      "outputs": [],
      "source": [
        "epochs=5"
      ]
    },
    {
      "cell_type": "code",
      "execution_count": null,
      "metadata": {
        "colab": {
          "base_uri": "https://localhost:8080/"
        },
        "id": "dYZFdXtW65Jq",
        "outputId": "5fc3d452-3745-486a-aba4-3d88534410e6"
      },
      "outputs": [
        {
          "name": "stdout",
          "output_type": "stream",
          "text": [
            "epoch: 1 , loss: 1.14, acc: 0.59%\n",
            "epoch: 2 , loss: 0.65, acc: 0.79%\n",
            "epoch: 3 , loss: 0.42, acc: 0.88%\n",
            "epoch: 4 , loss: 0.28, acc: 0.94%\n",
            "epoch: 5 , loss: 0.19, acc: 0.97%\n"
          ]
        }
      ],
      "source": [
        "for epoch in range(epochs):\n",
        "    for i in range(0, n, bs):\n",
        "        s = slice(i, min(n,i+bs))\n",
        "        xb,yb = x_train[s],y_train[s]\n",
        "        preds = model(xb)\n",
        "        loss = loss_func(preds, yb)\n",
        "        loss.backward()\n",
        "        opt.step()\n",
        "        opt.zero_grad()\n",
        "    report(epoch,loss, preds, yb)"
      ]
    },
    {
      "cell_type": "markdown",
      "metadata": {
        "id": "dnuDiISSv_Mn"
      },
      "source": [
        "## Dataset y DataLoaders"
      ]
    },
    {
      "cell_type": "code",
      "execution_count": null,
      "metadata": {
        "id": "ccKHfaew411w"
      },
      "outputs": [],
      "source": [
        "def accuracy(out, yb):\n",
        "    return (out.argmax(dim=1)==yb).float().mean().detach()\n",
        "\n",
        "def report(epoch,loss, preds, yb):\n",
        "    print(f'epoch: {epoch+1} , loss: {loss:.2f}, acc: {accuracy(preds, yb):.2f}%')"
      ]
    },
    {
      "cell_type": "code",
      "execution_count": null,
      "metadata": {
        "id": "29gXiA1gEFSk"
      },
      "outputs": [],
      "source": [
        "bs=50\n",
        "epochs=5\n",
        "\n",
        "nh=50\n",
        "n=x_train.shape[1]\n",
        "o=10"
      ]
    },
    {
      "cell_type": "code",
      "execution_count": null,
      "metadata": {
        "id": "Rgq5pm5L3yqo"
      },
      "outputs": [],
      "source": [
        "def get_model(lr=.5):\n",
        "    model = nn.Sequential(nn.Linear(n,nh), nn.ReLU(), nn.Linear(nh,o))\n",
        "    return model, optim.SGD(model.parameters(),lr=lr)"
      ]
    },
    {
      "cell_type": "code",
      "execution_count": null,
      "metadata": {
        "id": "gVVZ-xn54GRc"
      },
      "outputs": [],
      "source": [
        "loss_func = F.cross_entropy"
      ]
    },
    {
      "cell_type": "markdown",
      "metadata": {
        "id": "wQg_uxlm8vX0"
      },
      "source": [
        "**Dataset**"
      ]
    },
    {
      "cell_type": "code",
      "execution_count": 8,
      "metadata": {
        "id": "sQSQcnwfwDLG"
      },
      "outputs": [],
      "source": [
        "#|export\n",
        "class Dataset():\n",
        "    def __init__(self,x,y):\n",
        "        self.x,self.y = x,y\n",
        "    def __len__(self):\n",
        "        return len(self.x)\n",
        "    def __getitem__(self,i):\n",
        "        return self.x[i],self.y[i]"
      ]
    },
    {
      "cell_type": "code",
      "execution_count": null,
      "metadata": {
        "id": "Pzq9ktSdwxfz"
      },
      "outputs": [],
      "source": [
        "train_ds,valid_ds = Dataset(x_train,y_train),Dataset(x_valid,y_valid)"
      ]
    },
    {
      "cell_type": "code",
      "execution_count": null,
      "metadata": {
        "id": "jUKblTKP70zS"
      },
      "outputs": [],
      "source": [
        "assert len(train_ds)==len(x_train)\n",
        "assert len(valid_ds)==len(x_valid)"
      ]
    },
    {
      "cell_type": "code",
      "execution_count": null,
      "metadata": {
        "colab": {
          "base_uri": "https://localhost:8080/"
        },
        "id": "Fl98NgBx8cN6",
        "outputId": "3d1680ba-4201-4f54-8988-6eef802e2ee5"
      },
      "outputs": [
        {
          "data": {
            "text/plain": [
              "(torch.Size([5, 784]), tensor([5, 0, 4, 1, 9]))"
            ]
          },
          "execution_count": 121,
          "metadata": {},
          "output_type": "execute_result"
        }
      ],
      "source": [
        "xb,yb = train_ds[:5]\n",
        "\n",
        "xb.shape,yb"
      ]
    },
    {
      "cell_type": "code",
      "execution_count": null,
      "metadata": {
        "id": "UuDqwFWS87DD"
      },
      "outputs": [],
      "source": [
        "model,opt =  get_model()"
      ]
    },
    {
      "cell_type": "code",
      "execution_count": null,
      "metadata": {
        "colab": {
          "base_uri": "https://localhost:8080/"
        },
        "id": "tXyUxmlH8k9f",
        "outputId": "3ff074f2-b8ac-49fb-bff1-4d8b42de64c8"
      },
      "outputs": [
        {
          "name": "stdout",
          "output_type": "stream",
          "text": [
            "epoch: 1 , loss: 0.83, acc: 0.71%\n",
            "epoch: 2 , loss: 0.48, acc: 0.82%\n",
            "epoch: 3 , loss: 0.35, acc: 0.88%\n",
            "epoch: 4 , loss: 0.32, acc: 0.91%\n",
            "epoch: 5 , loss: 0.29, acc: 0.85%\n"
          ]
        }
      ],
      "source": [
        "for epoch in range(epochs):\n",
        "    for i in range(0, n, bs):\n",
        "        s = slice(i, min(n,i+bs))\n",
        "        xb,yb = train_ds[s]\n",
        "        preds = model(xb)\n",
        "        loss = loss_func(preds, yb)\n",
        "        loss.backward()\n",
        "        opt.step()\n",
        "        opt.zero_grad()\n",
        "    report(epoch,loss, preds, yb)"
      ]
    },
    {
      "cell_type": "markdown",
      "metadata": {
        "id": "iyGmt0SF89_T"
      },
      "source": [
        "**dataLoader**"
      ]
    },
    {
      "cell_type": "code",
      "execution_count": null,
      "metadata": {
        "id": "nc3BGU1W9Ec1"
      },
      "outputs": [],
      "source": [
        "class DataLoader():\n",
        "    def __init__(self,ds,bs):\n",
        "        self.ds,self.bs = ds,bs\n",
        "\n",
        "    def __iter__(self):\n",
        "        for i in range(0,len(self.ds),self.bs):\n",
        "            yield self.ds[i: i+self.bs]"
      ]
    },
    {
      "cell_type": "code",
      "execution_count": null,
      "metadata": {
        "id": "J_bwFyxz8ZxK"
      },
      "outputs": [],
      "source": [
        "train_ds,valid_ds = Dataset(x_train,y_train),Dataset(x_valid,y_valid)"
      ]
    },
    {
      "cell_type": "code",
      "execution_count": null,
      "metadata": {
        "id": "Pcac3EJj-RHQ"
      },
      "outputs": [],
      "source": [
        "train_dl = DataLoader(train_ds, bs)\n",
        "valid_dl = DataLoader(valid_ds, bs)"
      ]
    },
    {
      "cell_type": "code",
      "execution_count": null,
      "metadata": {
        "colab": {
          "base_uri": "https://localhost:8080/"
        },
        "id": "1b4mWArr-TvA",
        "outputId": "5dda43fb-2d69-420c-975b-bceff4ecda5b"
      },
      "outputs": [
        {
          "data": {
            "text/plain": [
              "(torch.Size([50, 784]), torch.Size([50]))"
            ]
          },
          "execution_count": 127,
          "metadata": {},
          "output_type": "execute_result"
        }
      ],
      "source": [
        "xb,yb = next(iter(train_dl))\n",
        "xb.shape,yb.shape"
      ]
    },
    {
      "cell_type": "code",
      "execution_count": null,
      "metadata": {
        "colab": {
          "base_uri": "https://localhost:8080/",
          "height": 448
        },
        "id": "jD0Iow-b-ZaA",
        "outputId": "4df1217d-70e1-458d-e44c-94e254c32fdf"
      },
      "outputs": [
        {
          "data": {
            "text/plain": [
              "tensor(3)"
            ]
          },
          "execution_count": 128,
          "metadata": {},
          "output_type": "execute_result"
        },
        {
          "data": {
            "image/png": "[encoded data removed]",
            "text/plain": [
              "<Figure size 640x480 with 1 Axes>"
            ]
          },
          "metadata": {},
          "output_type": "display_data"
        }
      ],
      "source": [
        "plt.imshow(xb[7].view(28,28))\n",
        "yb[7]"
      ]
    },
    {
      "cell_type": "code",
      "execution_count": null,
      "metadata": {
        "id": "koAFpWHa_IOt"
      },
      "outputs": [],
      "source": [
        "model1,opt1 =  get_model()\n"
      ]
    },
    {
      "cell_type": "code",
      "execution_count": null,
      "metadata": {
        "id": "Nv9GlgBW_yik"
      },
      "outputs": [],
      "source": [
        "def fit1(epochs):\n",
        "    for epoch in range(epochs):\n",
        "        for xb,yb in train_dl:\n",
        "            #pdb.set_trace()\n",
        "            preds = model1(xb)\n",
        "            loss = loss_func(preds, yb)\n",
        "            loss.backward()\n",
        "            opt1.step()\n",
        "            opt1.zero_grad()\n",
        "        report(epoch,loss, preds, yb)"
      ]
    },
    {
      "cell_type": "code",
      "execution_count": null,
      "metadata": {
        "colab": {
          "base_uri": "https://localhost:8080/"
        },
        "id": "IklZjJpQACkv",
        "outputId": "1d168031-47c1-4102-e734-32cd594a685e"
      },
      "outputs": [
        {
          "name": "stdout",
          "output_type": "stream",
          "text": [
            "epoch: 1 , loss: 0.15, acc: 0.94%\n",
            "epoch: 2 , loss: 0.06, acc: 0.98%\n",
            "epoch: 3 , loss: 0.07, acc: 0.98%\n",
            "epoch: 4 , loss: 0.05, acc: 0.98%\n",
            "epoch: 5 , loss: 0.04, acc: 0.98%\n"
          ]
        }
      ],
      "source": [
        "fit1(5)"
      ]
    },
    {
      "cell_type": "markdown",
      "metadata": {
        "id": "swVyXHXAAFbB"
      },
      "source": [
        "## Pytorch Dataset y DataLoader"
      ]
    },
    {
      "cell_type": "code",
      "execution_count": 9,
      "metadata": {
        "id": "Wx8IgzQRA4dW"
      },
      "outputs": [],
      "source": [
        "#|export\n",
        "from torch.utils.data import DataLoader, SequentialSampler, RandomSampler, BatchSampler"
      ]
    },
    {
      "cell_type": "code",
      "execution_count": null,
      "metadata": {
        "id": "51S5eGcXC_Tn"
      },
      "outputs": [],
      "source": [
        "class MyDataset(Dataset):\n",
        "    def __init__(self,x,y):\n",
        "        self.x,self.y = x,y\n",
        "    def __len__(self):\n",
        "        return len(self.x)\n",
        "    def __getitem__(self,i):\n",
        "        return self.x[i],self.y[i]"
      ]
    },
    {
      "cell_type": "code",
      "execution_count": null,
      "metadata": {
        "id": "2_sl5tJyBq9P"
      },
      "outputs": [],
      "source": [
        "train_ds = MyDataset(x_train[:1000],y_train[:1000])\n",
        "valid_ds = MyDataset(x_valid,y_valid)"
      ]
    },
    {
      "cell_type": "code",
      "execution_count": null,
      "metadata": {
        "id": "x9or2m-3B5jY"
      },
      "outputs": [],
      "source": [
        "train_dl = DataLoader(train_ds, bs, shuffle=True, drop_last=True, num_workers=2)\n",
        "valid_dl = DataLoader(valid_ds, bs, shuffle=False, num_workers=2)"
      ]
    },
    {
      "cell_type": "code",
      "execution_count": null,
      "metadata": {
        "id": "zIapB-2tJtaX"
      },
      "outputs": [],
      "source": [
        "def get_model(lr=.5):\n",
        "    model = nn.Sequential(nn.Linear(n,nh), nn.ReLU(), nn.Linear(nh,o))\n",
        "    return model, optim.SGD(model.parameters(),lr=lr)"
      ]
    },
    {
      "cell_type": "code",
      "execution_count": null,
      "metadata": {
        "id": "iibyfuZpEGgI"
      },
      "outputs": [],
      "source": [
        "model,opt = get_model()\n",
        "epochs=5"
      ]
    },
    {
      "cell_type": "code",
      "execution_count": null,
      "metadata": {
        "colab": {
          "base_uri": "https://localhost:8080/"
        },
        "id": "Nk4lWuogES2h",
        "outputId": "84c22da0-92e1-45f0-9ba2-8cc895553fbd"
      },
      "outputs": [
        {
          "name": "stdout",
          "output_type": "stream",
          "text": [
            "epoch: 1 , loss: 1.01, acc: 0.68%\n",
            "epoch: 2 , loss: 0.27, acc: 0.94%\n",
            "epoch: 3 , loss: 0.40, acc: 0.84%\n",
            "epoch: 4 , loss: 0.27, acc: 0.92%\n",
            "epoch: 5 , loss: 0.22, acc: 0.92%\n"
          ]
        }
      ],
      "source": [
        "for epoch in range(epochs):\n",
        "        for xb,yb in train_dl:\n",
        "            #pdb.set_trace()\n",
        "            preds = model(xb)\n",
        "            loss = loss_func(preds, yb)\n",
        "            loss.backward()\n",
        "            opt.step()\n",
        "            opt.zero_grad()\n",
        "        report(epoch,loss, preds, yb)"
      ]
    },
    {
      "cell_type": "markdown",
      "metadata": {
        "id": "iPt3mdxME-x1"
      },
      "source": [
        "# Añadimos Validación"
      ]
    },
    {
      "cell_type": "code",
      "execution_count": null,
      "metadata": {
        "id": "leF2s92sJvW3"
      },
      "outputs": [],
      "source": [
        "num,nh,o = x_train.shape[1],50,10"
      ]
    },
    {
      "cell_type": "code",
      "execution_count": null,
      "metadata": {
        "id": "kflh1AOPJZ9i"
      },
      "outputs": [],
      "source": [
        "train_ds = MyDataset(x_train[:50000],y_train[:50000])\n",
        "valid_ds = MyDataset(x_valid,y_valid)\n",
        "\n",
        "train_dl = DataLoader(train_ds, bs, shuffle=True, drop_last=True, num_workers=2)\n",
        "valid_dl = DataLoader(valid_ds, bs, shuffle=False, num_workers=2)"
      ]
    },
    {
      "cell_type": "code",
      "execution_count": null,
      "metadata": {
        "id": "pcphJmIbKJIw"
      },
      "outputs": [],
      "source": [
        "def get_model(lr=.5):\n",
        "    model = nn.Sequential(nn.Linear(num,nh), nn.ReLU(), nn.Linear(nh,o))\n",
        "    return model, optim.SGD(model.parameters(),lr=lr)"
      ]
    },
    {
      "cell_type": "code",
      "execution_count": null,
      "metadata": {
        "id": "rvovFjJLJdxs"
      },
      "outputs": [],
      "source": [
        "loss_func = F.cross_entropy"
      ]
    },
    {
      "cell_type": "code",
      "execution_count": null,
      "metadata": {
        "id": "V5dH0mo_JLY1"
      },
      "outputs": [],
      "source": [
        "epochs=10\n",
        "model,opt = get_model(0.15)"
      ]
    },
    {
      "cell_type": "code",
      "execution_count": null,
      "metadata": {
        "colab": {
          "base_uri": "https://localhost:8080/"
        },
        "id": "HB_D-2JsFd_M",
        "outputId": "8ee23abd-0448-42c4-bbd8-58b5b5574d9a"
      },
      "outputs": [
        {
          "name": "stdout",
          "output_type": "stream",
          "text": [
            "Epoch: 0\n",
            "TRAIN: loss: 0.051, acc: 0.98%\n",
            "VALID: loss: 0.091, acc: 0.97%\n",
            "Epoch: 1\n",
            "TRAIN: loss: 0.046, acc: 0.99%\n",
            "VALID: loss: 0.091, acc: 0.97%\n",
            "Epoch: 2\n",
            "TRAIN: loss: 0.042, acc: 0.99%\n",
            "VALID: loss: 0.091, acc: 0.97%\n",
            "Epoch: 3\n",
            "TRAIN: loss: 0.040, acc: 0.99%\n",
            "VALID: loss: 0.091, acc: 0.97%\n",
            "Epoch: 4\n",
            "TRAIN: loss: 0.037, acc: 0.99%\n",
            "VALID: loss: 0.092, acc: 0.97%\n",
            "Epoch: 5\n",
            "TRAIN: loss: 0.033, acc: 0.99%\n",
            "VALID: loss: 0.092, acc: 0.97%\n",
            "Epoch: 6\n",
            "TRAIN: loss: 0.030, acc: 0.99%\n",
            "VALID: loss: 0.094, acc: 0.97%\n",
            "Epoch: 7\n",
            "TRAIN: loss: 0.028, acc: 0.99%\n",
            "VALID: loss: 0.088, acc: 0.97%\n",
            "Epoch: 8\n",
            "TRAIN: loss: 0.026, acc: 0.99%\n",
            "VALID: loss: 0.093, acc: 0.97%\n",
            "Epoch: 9\n",
            "TRAIN: loss: 0.024, acc: 0.99%\n",
            "VALID: loss: 0.093, acc: 0.98%\n"
          ]
        }
      ],
      "source": [
        "for epoch in range(epochs):\n",
        "    print(f'Epoch: {epoch}')\n",
        "\n",
        "    t_loss,t_accu,t_count=0.,0.,0.\n",
        "    v_loss,v_accu,v_count=0.,0.,0.\n",
        "    model.train()\n",
        "    for xb,yb in train_dl:\n",
        "        n = len(xb)\n",
        "        t_count += n\n",
        "        #pdb.set_trace()\n",
        "        preds = model(xb)\n",
        "        loss = loss_func(preds, yb)\n",
        "        loss.backward()\n",
        "        opt.step()\n",
        "        opt.zero_grad()\n",
        "        t_loss += loss_func(preds, yb).item()* n\n",
        "        t_accu += accuracy(preds,yb).item() * n\n",
        "\n",
        "    model.eval()\n",
        "    with torch.no_grad():\n",
        "        v_loss,v_accu,count=0.,0.,0.\n",
        "        for xb,yb in valid_dl:\n",
        "            n = len(xb)\n",
        "            preds = model(xb)\n",
        "            v_count += n\n",
        "            v_loss += loss_func(preds, yb).item()* n\n",
        "            v_accu += accuracy(preds,yb).item() * n\n",
        "    print(f'TRAIN: loss: {(t_loss/t_count):.3f}, acc: {(t_accu/t_count):.2f}%' )\n",
        "    print(f'VALID: loss: {(v_loss/v_count):.3f}, acc: {(v_accu/v_count):.2f}%' )"
      ]
    },
    {
      "cell_type": "code",
      "execution_count": 10,
      "metadata": {
        "id": "5yyoiKKHHZBf"
      },
      "outputs": [],
      "source": [
        "#|export\n",
        "def fit(epochs, model, loss_func, opt, train_dl, valid_dl):\n",
        "    for epoch in range(epochs):\n",
        "        model.train()\n",
        "        for xb,yb in train_dl:\n",
        "            loss = loss_func(model(xb), yb)\n",
        "            loss.backward()\n",
        "            opt.step()\n",
        "            opt.zero_grad()\n",
        "\n",
        "        model.eval()\n",
        "        with torch.no_grad():\n",
        "            tot_loss,tot_acc,count = 0.,0.,0\n",
        "            for xb,yb in valid_dl:\n",
        "                pred = model(xb)\n",
        "                n = len(xb)\n",
        "                count += n\n",
        "                tot_loss += loss_func(pred,yb).item()*n\n",
        "                tot_acc  += accuracy (pred,yb).item()*n\n",
        "        print(epoch, tot_loss/count, tot_acc/count)\n",
        "    return tot_loss/count, tot_acc/count"
      ]
    },
    {
      "cell_type": "code",
      "execution_count": 11,
      "metadata": {
        "id": "6H8p8edSe8tE"
      },
      "outputs": [],
      "source": [
        "#|export\n",
        "def get_dls(train_ds, valid_ds, bs, **kwargs):\n",
        "    return (DataLoader(train_ds, batch_size=bs, shuffle=True, **kwargs),\n",
        "            DataLoader(valid_ds, batch_size=bs*2, **kwargs))"
      ]
    },
    {
      "cell_type": "code",
      "execution_count": 14,
      "metadata": {
        "colab": {
          "base_uri": "https://localhost:8080/",
          "height": 335
        },
        "id": "RKJGqzlIe-3N",
        "outputId": "27ded194-8a6a-4b28-de63-c7bddf2524e2"
      },
      "outputs": [
        {
          "ename": "InterpolationMissingOptionError",
          "evalue": "Bad value substitution: option 'lib_name' in section 'DEFAULT' contains an interpolation key 'repo' which is not a valid option name. Raw value: '%(repo)s'",
          "output_type": "error",
          "traceback": [
            "\u001b[0;31m---------------------------------------------------------------------------\u001b[0m",
            "\u001b[0;31mInterpolationMissingOptionError\u001b[0m           Traceback (most recent call last)",
            "\u001b[0;32m<ipython-input-14-2b45c0b807e3>\u001b[0m in \u001b[0;36m<cell line: 1>\u001b[0;34m()\u001b[0m\n\u001b[0;32m----> 1\u001b[0;31m \u001b[0;32mimport\u001b[0m \u001b[0mnbdev\u001b[0m\u001b[0;34m;\u001b[0m \u001b[0mnbdev\u001b[0m\u001b[0;34m.\u001b[0m\u001b[0mnbdev_export\u001b[0m\u001b[0;34m(\u001b[0m\u001b[0;34m)\u001b[0m\u001b[0;34m\u001b[0m\u001b[0;34m\u001b[0m\u001b[0m\n\u001b[0m",
            "\u001b[0;32m/usr/local/lib/python3.10/dist-packages/fastcore/script.py\u001b[0m in \u001b[0;36m_f\u001b[0;34m(*args, **kwargs)\u001b[0m\n\u001b[1;32m    108\u001b[0m     \u001b[0;32mdef\u001b[0m \u001b[0m_f\u001b[0m\u001b[0;34m(\u001b[0m\u001b[0;34m*\u001b[0m\u001b[0margs\u001b[0m\u001b[0;34m,\u001b[0m \u001b[0;34m**\u001b[0m\u001b[0mkwargs\u001b[0m\u001b[0;34m)\u001b[0m\u001b[0;34m:\u001b[0m\u001b[0;34m\u001b[0m\u001b[0;34m\u001b[0m\u001b[0m\n\u001b[1;32m    109\u001b[0m         \u001b[0mmod\u001b[0m \u001b[0;34m=\u001b[0m \u001b[0minspect\u001b[0m\u001b[0;34m.\u001b[0m\u001b[0mgetmodule\u001b[0m\u001b[0;34m(\u001b[0m\u001b[0minspect\u001b[0m\u001b[0;34m.\u001b[0m\u001b[0mcurrentframe\u001b[0m\u001b[0;34m(\u001b[0m\u001b[0;34m)\u001b[0m\u001b[0;34m.\u001b[0m\u001b[0mf_back\u001b[0m\u001b[0;34m)\u001b[0m\u001b[0;34m\u001b[0m\u001b[0;34m\u001b[0m\u001b[0m\n\u001b[0;32m--> 110\u001b[0;31m         \u001b[0;32mif\u001b[0m \u001b[0;32mnot\u001b[0m \u001b[0mmod\u001b[0m\u001b[0;34m:\u001b[0m \u001b[0;32mreturn\u001b[0m \u001b[0mfunc\u001b[0m\u001b[0;34m(\u001b[0m\u001b[0;34m*\u001b[0m\u001b[0margs\u001b[0m\u001b[0;34m,\u001b[0m \u001b[0;34m**\u001b[0m\u001b[0mkwargs\u001b[0m\u001b[0;34m)\u001b[0m\u001b[0;34m\u001b[0m\u001b[0;34m\u001b[0m\u001b[0m\n\u001b[0m\u001b[1;32m    111\u001b[0m         \u001b[0;32mif\u001b[0m \u001b[0;32mnot\u001b[0m \u001b[0mSCRIPT_INFO\u001b[0m\u001b[0;34m.\u001b[0m\u001b[0mfunc\u001b[0m \u001b[0;32mand\u001b[0m \u001b[0mmod\u001b[0m\u001b[0;34m.\u001b[0m\u001b[0m__name__\u001b[0m\u001b[0;34m==\u001b[0m\u001b[0;34m\"__main__\"\u001b[0m\u001b[0;34m:\u001b[0m \u001b[0mSCRIPT_INFO\u001b[0m\u001b[0;34m.\u001b[0m\u001b[0mfunc\u001b[0m \u001b[0;34m=\u001b[0m \u001b[0mfunc\u001b[0m\u001b[0;34m.\u001b[0m\u001b[0m__name__\u001b[0m\u001b[0;34m\u001b[0m\u001b[0;34m\u001b[0m\u001b[0m\n\u001b[1;32m    112\u001b[0m         \u001b[0;32mif\u001b[0m \u001b[0mlen\u001b[0m\u001b[0;34m(\u001b[0m\u001b[0msys\u001b[0m\u001b[0;34m.\u001b[0m\u001b[0margv\u001b[0m\u001b[0;34m)\u001b[0m\u001b[0;34m>\u001b[0m\u001b[0;36m1\u001b[0m \u001b[0;32mand\u001b[0m \u001b[0msys\u001b[0m\u001b[0;34m.\u001b[0m\u001b[0margv\u001b[0m\u001b[0;34m[\u001b[0m\u001b[0;36m1\u001b[0m\u001b[0;34m]\u001b[0m\u001b[0;34m==\u001b[0m\u001b[0;34m''\u001b[0m\u001b[0;34m:\u001b[0m \u001b[0msys\u001b[0m\u001b[0;34m.\u001b[0m\u001b[0margv\u001b[0m\u001b[0;34m.\u001b[0m\u001b[0mpop\u001b[0m\u001b[0;34m(\u001b[0m\u001b[0;36m1\u001b[0m\u001b[0;34m)\u001b[0m\u001b[0;34m\u001b[0m\u001b[0;34m\u001b[0m\u001b[0m\n",
            "\u001b[0;32m/usr/local/lib/python3.10/dist-packages/nbdev/doclinks.py\u001b[0m in \u001b[0;36mnbdev_export\u001b[0;34m(path, procs, **kwargs)\u001b[0m\n\u001b[1;32m    142\u001b[0m     \u001b[0;32mfor\u001b[0m \u001b[0mf\u001b[0m \u001b[0;32min\u001b[0m \u001b[0mfiles\u001b[0m\u001b[0;34m:\u001b[0m \u001b[0mnb_export\u001b[0m\u001b[0;34m(\u001b[0m\u001b[0mf\u001b[0m\u001b[0;34m,\u001b[0m \u001b[0mprocs\u001b[0m\u001b[0;34m=\u001b[0m\u001b[0mprocs\u001b[0m\u001b[0;34m)\u001b[0m\u001b[0;34m\u001b[0m\u001b[0;34m\u001b[0m\u001b[0m\n\u001b[1;32m    143\u001b[0m     \u001b[0madd_init\u001b[0m\u001b[0;34m(\u001b[0m\u001b[0mget_config\u001b[0m\u001b[0;34m(\u001b[0m\u001b[0;34m)\u001b[0m\u001b[0;34m.\u001b[0m\u001b[0mlib_path\u001b[0m\u001b[0;34m)\u001b[0m\u001b[0;34m\u001b[0m\u001b[0;34m\u001b[0m\u001b[0m\n\u001b[0;32m--> 144\u001b[0;31m     \u001b[0m_build_modidx\u001b[0m\u001b[0;34m(\u001b[0m\u001b[0;34m)\u001b[0m\u001b[0;34m\u001b[0m\u001b[0;34m\u001b[0m\u001b[0m\n\u001b[0m\u001b[1;32m    145\u001b[0m \u001b[0;34m\u001b[0m\u001b[0m\n\u001b[1;32m    146\u001b[0m \u001b[0;31m# %% ../nbs/api/05_doclinks.ipynb 25\u001b[0m\u001b[0;34m\u001b[0m\u001b[0;34m\u001b[0m\u001b[0m\n",
            "\u001b[0;32m/usr/local/lib/python3.10/dist-packages/nbdev/doclinks.py\u001b[0m in \u001b[0;36m_build_modidx\u001b[0;34m(dest, nbs_path, skip_exists)\u001b[0m\n\u001b[1;32m     96\u001b[0m     \u001b[0;32mif\u001b[0m \u001b[0midxfile\u001b[0m\u001b[0;34m.\u001b[0m\u001b[0mexists\u001b[0m\u001b[0;34m(\u001b[0m\u001b[0;34m)\u001b[0m\u001b[0;34m:\u001b[0m \u001b[0mres\u001b[0m \u001b[0;34m=\u001b[0m \u001b[0mexec_local\u001b[0m\u001b[0;34m(\u001b[0m\u001b[0midxfile\u001b[0m\u001b[0;34m.\u001b[0m\u001b[0mread_text\u001b[0m\u001b[0;34m(\u001b[0m\u001b[0mencoding\u001b[0m\u001b[0;34m=\u001b[0m\u001b[0;34m'utf-8'\u001b[0m\u001b[0;34m)\u001b[0m\u001b[0;34m,\u001b[0m \u001b[0;34m'd'\u001b[0m\u001b[0;34m)\u001b[0m\u001b[0;34m\u001b[0m\u001b[0;34m\u001b[0m\u001b[0m\n\u001b[1;32m     97\u001b[0m     \u001b[0;32melse\u001b[0m\u001b[0;34m:\u001b[0m \u001b[0mres\u001b[0m \u001b[0;34m=\u001b[0m \u001b[0mdict\u001b[0m\u001b[0;34m(\u001b[0m\u001b[0msyms\u001b[0m\u001b[0;34m=\u001b[0m\u001b[0;34m{\u001b[0m\u001b[0;34m}\u001b[0m\u001b[0;34m,\u001b[0m \u001b[0msettings\u001b[0m\u001b[0;34m=\u001b[0m\u001b[0;34m{\u001b[0m\u001b[0;34m}\u001b[0m\u001b[0;34m)\u001b[0m\u001b[0;34m\u001b[0m\u001b[0;34m\u001b[0m\u001b[0m\n\u001b[0;32m---> 98\u001b[0;31m     res['settings'] = {k:v for k,v in get_config().d.items()\n\u001b[0m\u001b[1;32m     99\u001b[0m                        if k in ('doc_host','doc_baseurl','lib_path','git_url','branch')}\n\u001b[1;32m    100\u001b[0m     \u001b[0mcode_root\u001b[0m \u001b[0;34m=\u001b[0m \u001b[0mdest\u001b[0m\u001b[0;34m.\u001b[0m\u001b[0mparent\u001b[0m\u001b[0;34m.\u001b[0m\u001b[0mresolve\u001b[0m\u001b[0;34m(\u001b[0m\u001b[0;34m)\u001b[0m\u001b[0;34m\u001b[0m\u001b[0;34m\u001b[0m\u001b[0m\n",
            "\u001b[0;32m/usr/local/lib/python3.10/dist-packages/nbdev/doclinks.py\u001b[0m in \u001b[0;36m<dictcomp>\u001b[0;34m(.0)\u001b[0m\n\u001b[1;32m     96\u001b[0m     \u001b[0;32mif\u001b[0m \u001b[0midxfile\u001b[0m\u001b[0;34m.\u001b[0m\u001b[0mexists\u001b[0m\u001b[0;34m(\u001b[0m\u001b[0;34m)\u001b[0m\u001b[0;34m:\u001b[0m \u001b[0mres\u001b[0m \u001b[0;34m=\u001b[0m \u001b[0mexec_local\u001b[0m\u001b[0;34m(\u001b[0m\u001b[0midxfile\u001b[0m\u001b[0;34m.\u001b[0m\u001b[0mread_text\u001b[0m\u001b[0;34m(\u001b[0m\u001b[0mencoding\u001b[0m\u001b[0;34m=\u001b[0m\u001b[0;34m'utf-8'\u001b[0m\u001b[0;34m)\u001b[0m\u001b[0;34m,\u001b[0m \u001b[0;34m'd'\u001b[0m\u001b[0;34m)\u001b[0m\u001b[0;34m\u001b[0m\u001b[0;34m\u001b[0m\u001b[0m\n\u001b[1;32m     97\u001b[0m     \u001b[0;32melse\u001b[0m\u001b[0;34m:\u001b[0m \u001b[0mres\u001b[0m \u001b[0;34m=\u001b[0m \u001b[0mdict\u001b[0m\u001b[0;34m(\u001b[0m\u001b[0msyms\u001b[0m\u001b[0;34m=\u001b[0m\u001b[0;34m{\u001b[0m\u001b[0;34m}\u001b[0m\u001b[0;34m,\u001b[0m \u001b[0msettings\u001b[0m\u001b[0;34m=\u001b[0m\u001b[0;34m{\u001b[0m\u001b[0;34m}\u001b[0m\u001b[0;34m)\u001b[0m\u001b[0;34m\u001b[0m\u001b[0;34m\u001b[0m\u001b[0m\n\u001b[0;32m---> 98\u001b[0;31m     res['settings'] = {k:v for k,v in get_config().d.items()\n\u001b[0m\u001b[1;32m     99\u001b[0m                        if k in ('doc_host','doc_baseurl','lib_path','git_url','branch')}\n\u001b[1;32m    100\u001b[0m     \u001b[0mcode_root\u001b[0m \u001b[0;34m=\u001b[0m \u001b[0mdest\u001b[0m\u001b[0;34m.\u001b[0m\u001b[0mparent\u001b[0m\u001b[0;34m.\u001b[0m\u001b[0mresolve\u001b[0m\u001b[0;34m(\u001b[0m\u001b[0;34m)\u001b[0m\u001b[0;34m\u001b[0m\u001b[0;34m\u001b[0m\u001b[0m\n",
            "\u001b[0;32m/usr/lib/python3.10/_collections_abc.py\u001b[0m in \u001b[0;36m__iter__\u001b[0;34m(self)\u001b[0m\n\u001b[1;32m    909\u001b[0m     \u001b[0;32mdef\u001b[0m \u001b[0m__iter__\u001b[0m\u001b[0;34m(\u001b[0m\u001b[0mself\u001b[0m\u001b[0;34m)\u001b[0m\u001b[0;34m:\u001b[0m\u001b[0;34m\u001b[0m\u001b[0;34m\u001b[0m\u001b[0m\n\u001b[1;32m    910\u001b[0m         \u001b[0;32mfor\u001b[0m \u001b[0mkey\u001b[0m \u001b[0;32min\u001b[0m \u001b[0mself\u001b[0m\u001b[0;34m.\u001b[0m\u001b[0m_mapping\u001b[0m\u001b[0;34m:\u001b[0m\u001b[0;34m\u001b[0m\u001b[0;34m\u001b[0m\u001b[0m\n\u001b[0;32m--> 911\u001b[0;31m             \u001b[0;32myield\u001b[0m \u001b[0;34m(\u001b[0m\u001b[0mkey\u001b[0m\u001b[0;34m,\u001b[0m \u001b[0mself\u001b[0m\u001b[0;34m.\u001b[0m\u001b[0m_mapping\u001b[0m\u001b[0;34m[\u001b[0m\u001b[0mkey\u001b[0m\u001b[0;34m]\u001b[0m\u001b[0;34m)\u001b[0m\u001b[0;34m\u001b[0m\u001b[0;34m\u001b[0m\u001b[0m\n\u001b[0m\u001b[1;32m    912\u001b[0m \u001b[0;34m\u001b[0m\u001b[0m\n\u001b[1;32m    913\u001b[0m \u001b[0;34m\u001b[0m\u001b[0m\n",
            "\u001b[0;32m/usr/lib/python3.10/configparser.py\u001b[0m in \u001b[0;36m__getitem__\u001b[0;34m(self, key)\u001b[0m\n\u001b[1;32m   1258\u001b[0m         \u001b[0;32mif\u001b[0m \u001b[0;32mnot\u001b[0m \u001b[0mself\u001b[0m\u001b[0;34m.\u001b[0m\u001b[0m_parser\u001b[0m\u001b[0;34m.\u001b[0m\u001b[0mhas_option\u001b[0m\u001b[0;34m(\u001b[0m\u001b[0mself\u001b[0m\u001b[0;34m.\u001b[0m\u001b[0m_name\u001b[0m\u001b[0;34m,\u001b[0m \u001b[0mkey\u001b[0m\u001b[0;34m)\u001b[0m\u001b[0;34m:\u001b[0m\u001b[0;34m\u001b[0m\u001b[0;34m\u001b[0m\u001b[0m\n\u001b[1;32m   1259\u001b[0m             \u001b[0;32mraise\u001b[0m \u001b[0mKeyError\u001b[0m\u001b[0;34m(\u001b[0m\u001b[0mkey\u001b[0m\u001b[0;34m)\u001b[0m\u001b[0;34m\u001b[0m\u001b[0;34m\u001b[0m\u001b[0m\n\u001b[0;32m-> 1260\u001b[0;31m         \u001b[0;32mreturn\u001b[0m \u001b[0mself\u001b[0m\u001b[0;34m.\u001b[0m\u001b[0m_parser\u001b[0m\u001b[0;34m.\u001b[0m\u001b[0mget\u001b[0m\u001b[0;34m(\u001b[0m\u001b[0mself\u001b[0m\u001b[0;34m.\u001b[0m\u001b[0m_name\u001b[0m\u001b[0;34m,\u001b[0m \u001b[0mkey\u001b[0m\u001b[0;34m)\u001b[0m\u001b[0;34m\u001b[0m\u001b[0;34m\u001b[0m\u001b[0m\n\u001b[0m\u001b[1;32m   1261\u001b[0m \u001b[0;34m\u001b[0m\u001b[0m\n\u001b[1;32m   1262\u001b[0m     \u001b[0;32mdef\u001b[0m \u001b[0m__setitem__\u001b[0m\u001b[0;34m(\u001b[0m\u001b[0mself\u001b[0m\u001b[0;34m,\u001b[0m \u001b[0mkey\u001b[0m\u001b[0;34m,\u001b[0m \u001b[0mvalue\u001b[0m\u001b[0;34m)\u001b[0m\u001b[0;34m:\u001b[0m\u001b[0;34m\u001b[0m\u001b[0;34m\u001b[0m\u001b[0m\n",
            "\u001b[0;32m/usr/lib/python3.10/configparser.py\u001b[0m in \u001b[0;36mget\u001b[0;34m(self, section, option, raw, vars, fallback)\u001b[0m\n\u001b[1;32m    799\u001b[0m             \u001b[0;32mreturn\u001b[0m \u001b[0mvalue\u001b[0m\u001b[0;34m\u001b[0m\u001b[0;34m\u001b[0m\u001b[0m\n\u001b[1;32m    800\u001b[0m         \u001b[0;32melse\u001b[0m\u001b[0;34m:\u001b[0m\u001b[0;34m\u001b[0m\u001b[0;34m\u001b[0m\u001b[0m\n\u001b[0;32m--> 801\u001b[0;31m             return self._interpolation.before_get(self, section, option, value,\n\u001b[0m\u001b[1;32m    802\u001b[0m                                                   d)\n\u001b[1;32m    803\u001b[0m \u001b[0;34m\u001b[0m\u001b[0m\n",
            "\u001b[0;32m/usr/lib/python3.10/configparser.py\u001b[0m in \u001b[0;36mbefore_get\u001b[0;34m(self, parser, section, option, value, defaults)\u001b[0m\n\u001b[1;32m    394\u001b[0m     \u001b[0;32mdef\u001b[0m \u001b[0mbefore_get\u001b[0m\u001b[0;34m(\u001b[0m\u001b[0mself\u001b[0m\u001b[0;34m,\u001b[0m \u001b[0mparser\u001b[0m\u001b[0;34m,\u001b[0m \u001b[0msection\u001b[0m\u001b[0;34m,\u001b[0m \u001b[0moption\u001b[0m\u001b[0;34m,\u001b[0m \u001b[0mvalue\u001b[0m\u001b[0;34m,\u001b[0m \u001b[0mdefaults\u001b[0m\u001b[0;34m)\u001b[0m\u001b[0;34m:\u001b[0m\u001b[0;34m\u001b[0m\u001b[0;34m\u001b[0m\u001b[0m\n\u001b[1;32m    395\u001b[0m         \u001b[0mL\u001b[0m \u001b[0;34m=\u001b[0m \u001b[0;34m[\u001b[0m\u001b[0;34m]\u001b[0m\u001b[0;34m\u001b[0m\u001b[0;34m\u001b[0m\u001b[0m\n\u001b[0;32m--> 396\u001b[0;31m         \u001b[0mself\u001b[0m\u001b[0;34m.\u001b[0m\u001b[0m_interpolate_some\u001b[0m\u001b[0;34m(\u001b[0m\u001b[0mparser\u001b[0m\u001b[0;34m,\u001b[0m \u001b[0moption\u001b[0m\u001b[0;34m,\u001b[0m \u001b[0mL\u001b[0m\u001b[0;34m,\u001b[0m \u001b[0mvalue\u001b[0m\u001b[0;34m,\u001b[0m \u001b[0msection\u001b[0m\u001b[0;34m,\u001b[0m \u001b[0mdefaults\u001b[0m\u001b[0;34m,\u001b[0m \u001b[0;36m1\u001b[0m\u001b[0;34m)\u001b[0m\u001b[0;34m\u001b[0m\u001b[0;34m\u001b[0m\u001b[0m\n\u001b[0m\u001b[1;32m    397\u001b[0m         \u001b[0;32mreturn\u001b[0m \u001b[0;34m''\u001b[0m\u001b[0;34m.\u001b[0m\u001b[0mjoin\u001b[0m\u001b[0;34m(\u001b[0m\u001b[0mL\u001b[0m\u001b[0;34m)\u001b[0m\u001b[0;34m\u001b[0m\u001b[0;34m\u001b[0m\u001b[0m\n\u001b[1;32m    398\u001b[0m \u001b[0;34m\u001b[0m\u001b[0m\n",
            "\u001b[0;32m/usr/lib/python3.10/configparser.py\u001b[0m in \u001b[0;36m_interpolate_some\u001b[0;34m(self, parser, option, accum, rest, section, map, depth)\u001b[0m\n\u001b[1;32m    433\u001b[0m                     \u001b[0mv\u001b[0m \u001b[0;34m=\u001b[0m \u001b[0mmap\u001b[0m\u001b[0;34m[\u001b[0m\u001b[0mvar\u001b[0m\u001b[0;34m]\u001b[0m\u001b[0;34m\u001b[0m\u001b[0;34m\u001b[0m\u001b[0m\n\u001b[1;32m    434\u001b[0m                 \u001b[0;32mexcept\u001b[0m \u001b[0mKeyError\u001b[0m\u001b[0;34m:\u001b[0m\u001b[0;34m\u001b[0m\u001b[0;34m\u001b[0m\u001b[0m\n\u001b[0;32m--> 435\u001b[0;31m                     raise InterpolationMissingOptionError(\n\u001b[0m\u001b[1;32m    436\u001b[0m                         option, section, rawval, var) from None\n\u001b[1;32m    437\u001b[0m                 \u001b[0;32mif\u001b[0m \u001b[0;34m\"%\"\u001b[0m \u001b[0;32min\u001b[0m \u001b[0mv\u001b[0m\u001b[0;34m:\u001b[0m\u001b[0;34m\u001b[0m\u001b[0;34m\u001b[0m\u001b[0m\n",
            "\u001b[0;31mInterpolationMissingOptionError\u001b[0m: Bad value substitution: option 'lib_name' in section 'DEFAULT' contains an interpolation key 'repo' which is not a valid option name. Raw value: '%(repo)s'"
          ]
        }
      ],
      "source": [
        "import nbdev; nbdev.nbdev_export()"
      ]
    },
    {
      "cell_type": "code",
      "execution_count": 13,
      "metadata": {
        "colab": {
          "base_uri": "https://localhost:8080/"
        },
        "id": "yBXbPGYHfB9P",
        "outputId": "5c2b6e6f-72cc-4ef1-9405-e6f6ab00ef1e"
      },
      "outputs": [
        {
          "name": "stdout",
          "output_type": "stream",
          "text": [
            "Collecting nbdev\n",
            "  Downloading nbdev-2.3.13-py3-none-any.whl (66 kB)\n",
            "\u001b[?25l     \u001b[90m━━━━━━━━━━━━━━━━━━━━━━━━━━━━━━━━━━━━━━━━\u001b[0m \u001b[32m0.0/66.1 kB\u001b[0m \u001b[31m?\u001b[0m eta \u001b[36m-:--:--\u001b[0m\r\u001b[2K     \u001b[91m━━━━━━━━━━━━━━━━━━━━━━━━\u001b[0m\u001b[91m╸\u001b[0m\u001b[90m━━━━━━━━━━━━━━━\u001b[0m \u001b[32m41.0/66.1 kB\u001b[0m \u001b[31m1.0 MB/s\u001b[0m eta \u001b[36m0:00:01\u001b[0m\r\u001b[2K     \u001b[90m━━━━━━━━━━━━━━━━━━━━━━━━━━━━━━━━━━━━━━━━\u001b[0m \u001b[32m66.1/66.1 kB\u001b[0m \u001b[31m1.2 MB/s\u001b[0m eta \u001b[36m0:00:00\u001b[0m\n",
            "\u001b[?25hRequirement already satisfied: ipywidgets<=8.0.4 in /usr/local/lib/python3.10/dist-packages (from nbdev) (7.7.1)\n",
            "Requirement already satisfied: fastcore>=1.5.27 in /usr/local/lib/python3.10/dist-packages (from nbdev) (1.5.29)\n",
            "Collecting execnb>=0.1.4 (from nbdev)\n",
            "  Downloading execnb-0.1.5-py3-none-any.whl (13 kB)\n",
            "Requirement already satisfied: astunparse in /usr/local/lib/python3.10/dist-packages (from nbdev) (1.6.3)\n",
            "Collecting ghapi>=1.0.3 (from nbdev)\n",
            "  Downloading ghapi-1.0.4-py3-none-any.whl (58 kB)\n",
            "\u001b[2K     \u001b[90m━━━━━━━━━━━━━━━━━━━━━━━━━━━━━━━━━━━━━━━━\u001b[0m \u001b[32m58.7/58.7 kB\u001b[0m \u001b[31m4.5 MB/s\u001b[0m eta \u001b[36m0:00:00\u001b[0m\n",
            "\u001b[?25hCollecting watchdog (from nbdev)\n",
            "  Downloading watchdog-3.0.0-py3-none-manylinux2014_x86_64.whl (82 kB)\n",
            "\u001b[2K     \u001b[90m━━━━━━━━━━━━━━━━━━━━━━━━━━━━━━━━━━━━━━━━\u001b[0m \u001b[32m82.1/82.1 kB\u001b[0m \u001b[31m9.7 MB/s\u001b[0m eta \u001b[36m0:00:00\u001b[0m\n",
            "\u001b[?25hCollecting asttokens (from nbdev)\n",
            "  Downloading asttokens-2.4.1-py2.py3-none-any.whl (27 kB)\n",
            "Requirement already satisfied: PyYAML in /usr/local/lib/python3.10/dist-packages (from nbdev) (6.0.1)\n",
            "Requirement already satisfied: ipython in /usr/local/lib/python3.10/dist-packages (from execnb>=0.1.4->nbdev) (7.34.0)\n",
            "Requirement already satisfied: pip in /usr/local/lib/python3.10/dist-packages (from fastcore>=1.5.27->nbdev) (23.1.2)\n",
            "Requirement already satisfied: packaging in /usr/local/lib/python3.10/dist-packages (from fastcore>=1.5.27->nbdev) (23.2)\n",
            "Requirement already satisfied: ipykernel>=4.5.1 in /usr/local/lib/python3.10/dist-packages (from ipywidgets<=8.0.4->nbdev) (5.5.6)\n",
            "Requirement already satisfied: ipython-genutils~=0.2.0 in /usr/local/lib/python3.10/dist-packages (from ipywidgets<=8.0.4->nbdev) (0.2.0)\n",
            "Requirement already satisfied: traitlets>=4.3.1 in /usr/local/lib/python3.10/dist-packages (from ipywidgets<=8.0.4->nbdev) (5.7.1)\n",
            "Requirement already satisfied: widgetsnbextension~=3.6.0 in /usr/local/lib/python3.10/dist-packages (from ipywidgets<=8.0.4->nbdev) (3.6.6)\n",
            "Requirement already satisfied: jupyterlab-widgets>=1.0.0 in /usr/local/lib/python3.10/dist-packages (from ipywidgets<=8.0.4->nbdev) (3.0.9)\n",
            "Requirement already satisfied: six>=1.12.0 in /usr/local/lib/python3.10/dist-packages (from asttokens->nbdev) (1.16.0)\n",
            "Requirement already satisfied: wheel<1.0,>=0.23.0 in /usr/local/lib/python3.10/dist-packages (from astunparse->nbdev) (0.42.0)\n",
            "Requirement already satisfied: jupyter-client in /usr/local/lib/python3.10/dist-packages (from ipykernel>=4.5.1->ipywidgets<=8.0.4->nbdev) (6.1.12)\n",
            "Requirement already satisfied: tornado>=4.2 in /usr/local/lib/python3.10/dist-packages (from ipykernel>=4.5.1->ipywidgets<=8.0.4->nbdev) (6.3.2)\n",
            "Requirement already satisfied: setuptools>=18.5 in /usr/local/lib/python3.10/dist-packages (from ipython->execnb>=0.1.4->nbdev) (67.7.2)\n",
            "Collecting jedi>=0.16 (from ipython->execnb>=0.1.4->nbdev)\n",
            "  Downloading jedi-0.19.1-py2.py3-none-any.whl (1.6 MB)\n",
            "\u001b[2K     \u001b[90m━━━━━━━━━━━━━━━━━━━━━━━━━━━━━━━━━━━━━━━━\u001b[0m \u001b[32m1.6/1.6 MB\u001b[0m \u001b[31m30.3 MB/s\u001b[0m eta \u001b[36m0:00:00\u001b[0m\n",
            "\u001b[?25hRequirement already satisfied: decorator in /usr/local/lib/python3.10/dist-packages (from ipython->execnb>=0.1.4->nbdev) (4.4.2)\n",
            "Requirement already satisfied: pickleshare in /usr/local/lib/python3.10/dist-packages (from ipython->execnb>=0.1.4->nbdev) (0.7.5)\n",
            "Requirement already satisfied: prompt-toolkit!=3.0.0,!=3.0.1,<3.1.0,>=2.0.0 in /usr/local/lib/python3.10/dist-packages (from ipython->execnb>=0.1.4->nbdev) (3.0.43)\n",
            "Requirement already satisfied: pygments in /usr/local/lib/python3.10/dist-packages (from ipython->execnb>=0.1.4->nbdev) (2.16.1)\n",
            "Requirement already satisfied: backcall in /usr/local/lib/python3.10/dist-packages (from ipython->execnb>=0.1.4->nbdev) (0.2.0)\n",
            "Requirement already satisfied: matplotlib-inline in /usr/local/lib/python3.10/dist-packages (from ipython->execnb>=0.1.4->nbdev) (0.1.6)\n",
            "Requirement already satisfied: pexpect>4.3 in /usr/local/lib/python3.10/dist-packages (from ipython->execnb>=0.1.4->nbdev) (4.9.0)\n",
            "Requirement already satisfied: notebook>=4.4.1 in /usr/local/lib/python3.10/dist-packages (from widgetsnbextension~=3.6.0->ipywidgets<=8.0.4->nbdev) (6.5.5)\n",
            "Requirement already satisfied: parso<0.9.0,>=0.8.3 in /usr/local/lib/python3.10/dist-packages (from jedi>=0.16->ipython->execnb>=0.1.4->nbdev) (0.8.3)\n",
            "Requirement already satisfied: jinja2 in /usr/local/lib/python3.10/dist-packages (from notebook>=4.4.1->widgetsnbextension~=3.6.0->ipywidgets<=8.0.4->nbdev) (3.1.3)\n",
            "Requirement already satisfied: pyzmq<25,>=17 in /usr/local/lib/python3.10/dist-packages (from notebook>=4.4.1->widgetsnbextension~=3.6.0->ipywidgets<=8.0.4->nbdev) (23.2.1)\n",
            "Requirement already satisfied: argon2-cffi in /usr/local/lib/python3.10/dist-packages (from notebook>=4.4.1->widgetsnbextension~=3.6.0->ipywidgets<=8.0.4->nbdev) (23.1.0)\n",
            "Requirement already satisfied: jupyter-core>=4.6.1 in /usr/local/lib/python3.10/dist-packages (from notebook>=4.4.1->widgetsnbextension~=3.6.0->ipywidgets<=8.0.4->nbdev) (5.7.1)\n",
            "Requirement already satisfied: nbformat in /usr/local/lib/python3.10/dist-packages (from notebook>=4.4.1->widgetsnbextension~=3.6.0->ipywidgets<=8.0.4->nbdev) (5.9.2)\n",
            "Requirement already satisfied: nbconvert>=5 in /usr/local/lib/python3.10/dist-packages (from notebook>=4.4.1->widgetsnbextension~=3.6.0->ipywidgets<=8.0.4->nbdev) (6.5.4)\n",
            "Requirement already satisfied: nest-asyncio>=1.5 in /usr/local/lib/python3.10/dist-packages (from notebook>=4.4.1->widgetsnbextension~=3.6.0->ipywidgets<=8.0.4->nbdev) (1.5.8)\n",
            "Requirement already satisfied: Send2Trash>=1.8.0 in /usr/local/lib/python3.10/dist-packages (from notebook>=4.4.1->widgetsnbextension~=3.6.0->ipywidgets<=8.0.4->nbdev) (1.8.2)\n",
            "Requirement already satisfied: terminado>=0.8.3 in /usr/local/lib/python3.10/dist-packages (from notebook>=4.4.1->widgetsnbextension~=3.6.0->ipywidgets<=8.0.4->nbdev) (0.18.0)\n",
            "Requirement already satisfied: prometheus-client in /usr/local/lib/python3.10/dist-packages (from notebook>=4.4.1->widgetsnbextension~=3.6.0->ipywidgets<=8.0.4->nbdev) (0.19.0)\n",
            "Requirement already satisfied: nbclassic>=0.4.7 in /usr/local/lib/python3.10/dist-packages (from notebook>=4.4.1->widgetsnbextension~=3.6.0->ipywidgets<=8.0.4->nbdev) (1.0.0)\n",
            "Requirement already satisfied: python-dateutil>=2.1 in /usr/local/lib/python3.10/dist-packages (from jupyter-client->ipykernel>=4.5.1->ipywidgets<=8.0.4->nbdev) (2.8.2)\n",
            "Requirement already satisfied: ptyprocess>=0.5 in /usr/local/lib/python3.10/dist-packages (from pexpect>4.3->ipython->execnb>=0.1.4->nbdev) (0.7.0)\n",
            "Requirement already satisfied: wcwidth in /usr/local/lib/python3.10/dist-packages (from prompt-toolkit!=3.0.0,!=3.0.1,<3.1.0,>=2.0.0->ipython->execnb>=0.1.4->nbdev) (0.2.13)\n",
            "Requirement already satisfied: platformdirs>=2.5 in /usr/local/lib/python3.10/dist-packages (from jupyter-core>=4.6.1->notebook>=4.4.1->widgetsnbextension~=3.6.0->ipywidgets<=8.0.4->nbdev) (4.1.0)\n",
            "Requirement already satisfied: jupyter-server>=1.8 in /usr/local/lib/python3.10/dist-packages (from nbclassic>=0.4.7->notebook>=4.4.1->widgetsnbextension~=3.6.0->ipywidgets<=8.0.4->nbdev) (1.24.0)\n",
            "Requirement already satisfied: notebook-shim>=0.2.3 in /usr/local/lib/python3.10/dist-packages (from nbclassic>=0.4.7->notebook>=4.4.1->widgetsnbextension~=3.6.0->ipywidgets<=8.0.4->nbdev) (0.2.3)\n",
            "Requirement already satisfied: lxml in /usr/local/lib/python3.10/dist-packages (from nbconvert>=5->notebook>=4.4.1->widgetsnbextension~=3.6.0->ipywidgets<=8.0.4->nbdev) (4.9.4)\n",
            "Requirement already satisfied: beautifulsoup4 in /usr/local/lib/python3.10/dist-packages (from nbconvert>=5->notebook>=4.4.1->widgetsnbextension~=3.6.0->ipywidgets<=8.0.4->nbdev) (4.11.2)\n",
            "Requirement already satisfied: bleach in /usr/local/lib/python3.10/dist-packages (from nbconvert>=5->notebook>=4.4.1->widgetsnbextension~=3.6.0->ipywidgets<=8.0.4->nbdev) (6.1.0)\n",
            "Requirement already satisfied: defusedxml in /usr/local/lib/python3.10/dist-packages (from nbconvert>=5->notebook>=4.4.1->widgetsnbextension~=3.6.0->ipywidgets<=8.0.4->nbdev) (0.7.1)\n",
            "Requirement already satisfied: entrypoints>=0.2.2 in /usr/local/lib/python3.10/dist-packages (from nbconvert>=5->notebook>=4.4.1->widgetsnbextension~=3.6.0->ipywidgets<=8.0.4->nbdev) (0.4)\n",
            "Requirement already satisfied: jupyterlab-pygments in /usr/local/lib/python3.10/dist-packages (from nbconvert>=5->notebook>=4.4.1->widgetsnbextension~=3.6.0->ipywidgets<=8.0.4->nbdev) (0.3.0)\n",
            "Requirement already satisfied: MarkupSafe>=2.0 in /usr/local/lib/python3.10/dist-packages (from nbconvert>=5->notebook>=4.4.1->widgetsnbextension~=3.6.0->ipywidgets<=8.0.4->nbdev) (2.1.3)\n",
            "Requirement already satisfied: mistune<2,>=0.8.1 in /usr/local/lib/python3.10/dist-packages (from nbconvert>=5->notebook>=4.4.1->widgetsnbextension~=3.6.0->ipywidgets<=8.0.4->nbdev) (0.8.4)\n",
            "Requirement already satisfied: nbclient>=0.5.0 in /usr/local/lib/python3.10/dist-packages (from nbconvert>=5->notebook>=4.4.1->widgetsnbextension~=3.6.0->ipywidgets<=8.0.4->nbdev) (0.9.0)\n",
            "Requirement already satisfied: pandocfilters>=1.4.1 in /usr/local/lib/python3.10/dist-packages (from nbconvert>=5->notebook>=4.4.1->widgetsnbextension~=3.6.0->ipywidgets<=8.0.4->nbdev) (1.5.0)\n",
            "Requirement already satisfied: tinycss2 in /usr/local/lib/python3.10/dist-packages (from nbconvert>=5->notebook>=4.4.1->widgetsnbextension~=3.6.0->ipywidgets<=8.0.4->nbdev) (1.2.1)\n",
            "Requirement already satisfied: fastjsonschema in /usr/local/lib/python3.10/dist-packages (from nbformat->notebook>=4.4.1->widgetsnbextension~=3.6.0->ipywidgets<=8.0.4->nbdev) (2.19.1)\n",
            "Requirement already satisfied: jsonschema>=2.6 in /usr/local/lib/python3.10/dist-packages (from nbformat->notebook>=4.4.1->widgetsnbextension~=3.6.0->ipywidgets<=8.0.4->nbdev) (4.19.2)\n",
            "Requirement already satisfied: argon2-cffi-bindings in /usr/local/lib/python3.10/dist-packages (from argon2-cffi->notebook>=4.4.1->widgetsnbextension~=3.6.0->ipywidgets<=8.0.4->nbdev) (21.2.0)\n",
            "Requirement already satisfied: attrs>=22.2.0 in /usr/local/lib/python3.10/dist-packages (from jsonschema>=2.6->nbformat->notebook>=4.4.1->widgetsnbextension~=3.6.0->ipywidgets<=8.0.4->nbdev) (23.2.0)\n",
            "Requirement already satisfied: jsonschema-specifications>=2023.03.6 in /usr/local/lib/python3.10/dist-packages (from jsonschema>=2.6->nbformat->notebook>=4.4.1->widgetsnbextension~=3.6.0->ipywidgets<=8.0.4->nbdev) (2023.12.1)\n",
            "Requirement already satisfied: referencing>=0.28.4 in /usr/local/lib/python3.10/dist-packages (from jsonschema>=2.6->nbformat->notebook>=4.4.1->widgetsnbextension~=3.6.0->ipywidgets<=8.0.4->nbdev) (0.32.1)\n",
            "Requirement already satisfied: rpds-py>=0.7.1 in /usr/local/lib/python3.10/dist-packages (from jsonschema>=2.6->nbformat->notebook>=4.4.1->widgetsnbextension~=3.6.0->ipywidgets<=8.0.4->nbdev) (0.16.2)\n",
            "Requirement already satisfied: anyio<4,>=3.1.0 in /usr/local/lib/python3.10/dist-packages (from jupyter-server>=1.8->nbclassic>=0.4.7->notebook>=4.4.1->widgetsnbextension~=3.6.0->ipywidgets<=8.0.4->nbdev) (3.7.1)\n",
            "Requirement already satisfied: websocket-client in /usr/local/lib/python3.10/dist-packages (from jupyter-server>=1.8->nbclassic>=0.4.7->notebook>=4.4.1->widgetsnbextension~=3.6.0->ipywidgets<=8.0.4->nbdev) (1.7.0)\n",
            "Requirement already satisfied: cffi>=1.0.1 in /usr/local/lib/python3.10/dist-packages (from argon2-cffi-bindings->argon2-cffi->notebook>=4.4.1->widgetsnbextension~=3.6.0->ipywidgets<=8.0.4->nbdev) (1.16.0)\n",
            "Requirement already satisfied: soupsieve>1.2 in /usr/local/lib/python3.10/dist-packages (from beautifulsoup4->nbconvert>=5->notebook>=4.4.1->widgetsnbextension~=3.6.0->ipywidgets<=8.0.4->nbdev) (2.5)\n",
            "Requirement already satisfied: webencodings in /usr/local/lib/python3.10/dist-packages (from bleach->nbconvert>=5->notebook>=4.4.1->widgetsnbextension~=3.6.0->ipywidgets<=8.0.4->nbdev) (0.5.1)\n",
            "Requirement already satisfied: idna>=2.8 in /usr/local/lib/python3.10/dist-packages (from anyio<4,>=3.1.0->jupyter-server>=1.8->nbclassic>=0.4.7->notebook>=4.4.1->widgetsnbextension~=3.6.0->ipywidgets<=8.0.4->nbdev) (3.6)\n",
            "Requirement already satisfied: sniffio>=1.1 in /usr/local/lib/python3.10/dist-packages (from anyio<4,>=3.1.0->jupyter-server>=1.8->nbclassic>=0.4.7->notebook>=4.4.1->widgetsnbextension~=3.6.0->ipywidgets<=8.0.4->nbdev) (1.3.0)\n",
            "Requirement already satisfied: exceptiongroup in /usr/local/lib/python3.10/dist-packages (from anyio<4,>=3.1.0->jupyter-server>=1.8->nbclassic>=0.4.7->notebook>=4.4.1->widgetsnbextension~=3.6.0->ipywidgets<=8.0.4->nbdev) (1.2.0)\n",
            "Requirement already satisfied: pycparser in /usr/local/lib/python3.10/dist-packages (from cffi>=1.0.1->argon2-cffi-bindings->argon2-cffi->notebook>=4.4.1->widgetsnbextension~=3.6.0->ipywidgets<=8.0.4->nbdev) (2.21)\n",
            "Installing collected packages: watchdog, jedi, asttokens, ghapi, execnb, nbdev\n",
            "Successfully installed asttokens-2.4.1 execnb-0.1.5 ghapi-1.0.4 jedi-0.19.1 nbdev-2.3.13 watchdog-3.0.0\n"
          ]
        }
      ],
      "source": [
        "!pip install nbdev"
      ]
    },
    {
      "cell_type": "code",
      "execution_count": null,
      "metadata": {
        "id": "6DGdSfYDfF_W"
      },
      "outputs": [],
      "source": []
    }
  ],
  "metadata": {
    "colab": {
      "include_colab_link": true,
      "provenance": []
    },
    "kernelspec": {
      "display_name": "Python 3 (ipykernel)",
      "language": "python",
      "name": "python3"
    }
  },
  "nbformat": 4,
  "nbformat_minor": 0
}
